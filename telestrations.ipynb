{
 "cells": [
  {
   "cell_type": "code",
   "execution_count": 43,
   "id": "368e2052-64cb-4e75-85b0-99bf216e0d98",
   "metadata": {},
   "outputs": [
    {
     "name": "stderr",
     "output_type": "stream",
     "text": [
      "[nltk_data] Downloading package punkt to /home/x-akolli/nltk_data...\n",
      "[nltk_data]   Package punkt is already up-to-date!\n",
      "[nltk_data] Downloading package stopwords to\n",
      "[nltk_data]     /home/x-akolli/nltk_data...\n",
      "[nltk_data]   Package stopwords is already up-to-date!\n",
      "[nltk_data] Downloading package wordnet to /home/x-akolli/nltk_data...\n",
      "[nltk_data]   Package wordnet is already up-to-date!\n"
     ]
    }
   ],
   "source": [
    "import pandas as pd\n",
    "import numpy as np\n",
    "import matplotlib.pyplot as plt\n",
    "import string\n",
    "import re\n",
    "import nltk\n",
    "import nltk.corpus\n",
    "nltk.download(\"punkt\")\n",
    "nltk.download(\"stopwords\")\n",
    "nltk.download(\"wordnet\")\n",
    "from nltk.stem import WordNetLemmatizer\n",
    "from nltk.corpus import stopwords\n",
    "from nltk.tokenize import word_tokenize\n",
    "from nltk.sentiment import SentimentIntensityAnalyzer\n",
    "from textblob import TextBlob\n",
    "from sklearn.feature_extraction.text import CountVectorizer, TfidfVectorizer\n",
    "from wordcloud import WordCloud\n",
    "from sklearn.preprocessing import LabelEncoder\n",
    "#from imblearn.over_sampling import SMOTE\n",
    "from collections import Counter\n",
    "from sklearn.model_selection import train_test_split, cross_val_score, GridSearchCV\n",
    "from sklearn.svm import SVC\n",
    "from sklearn.tree import DecisionTreeClassifier\n",
    "from sklearn.linear_model import LogisticRegression\n",
    "from sklearn.ensemble import RandomForestClassifier\n",
    "from sklearn.naive_bayes import BernoulliNB\n",
    "from sklearn.neighbors import KNeighborsClassifier\n",
    "from sklearn.metrics import confusion_matrix, accuracy_score, classification_report"
   ]
  },
  {
   "cell_type": "code",
   "execution_count": 116,
   "id": "49e095fa-4681-4f96-9545-369ad9173f08",
   "metadata": {},
   "outputs": [],
   "source": [
    "dataset = pd.read_csv(\"data.csv\")"
   ]
  },
  {
   "cell_type": "code",
   "execution_count": 72,
   "id": "549face6-5e6c-407e-b0a8-28f50ae78fd4",
   "metadata": {},
   "outputs": [],
   "source": [
    "# def data_clean(entry):\n",
    "#   # Lowercase the texts\n",
    "#   entry = entry.lower()\n",
    "\n",
    "#   # Cleaning punctuations in the text\n",
    "#   punc = str.maketrans(string.punctuation, ' '*len(string.punctuation))\n",
    "#   entry = entry.translate(punc)\n",
    "\n",
    "#   # Removing numbers in the text\n",
    "#   entry = re.sub(r'\\d+', '', entry)\n",
    "\n",
    "#   # Remove possible links\n",
    "#   entry = re.sub('https?://\\S+|www\\.\\S+', '', entry)\n",
    "\n",
    "#   # Deleting newlines\n",
    "#   entry = re.sub('\\n', '', entry)\n",
    "\n",
    "#   return entry"
   ]
  },
  {
   "cell_type": "code",
   "execution_count": 73,
   "id": "33ffc679-3ee9-43ba-a090-7e7bebee141d",
   "metadata": {},
   "outputs": [],
   "source": [
    "Stopwords = set(nltk.corpus.stopwords.words(\"english\")) - set([\"not\"])"
   ]
  },
  {
   "cell_type": "code",
   "execution_count": 74,
   "id": "a8f25ba2-95b7-4179-b8b7-67a8a58d142e",
   "metadata": {},
   "outputs": [],
   "source": [
    "# def data_process(entry):\n",
    "#   Processed_Text = list()\n",
    "#   Lemmatizer = WordNetLemmatizer()\n",
    "\n",
    "#   # Tokens of Words\n",
    "#   Tokens = nltk.word_tokenize(entry)\n",
    "\n",
    "#   # Removing Stopwords and Lemmatizing Words\n",
    "#   # To reduce noises in our dataset, also to keep it simple and still \n",
    "#   # powerful, we will only omit the word `not` from the list of stopwords\n",
    "\n",
    "#   for word in Tokens:\n",
    "#     if word not in Stopwords:\n",
    "#       Processed_Text.append(Lemmatizer.lemmatize(word))\n",
    "\n",
    "#   return(\" \".join(Processed_Text))"
   ]
  },
  {
   "cell_type": "code",
   "execution_count": 75,
   "id": "827e4f82-639f-49fe-9226-a168cdfe4030",
   "metadata": {},
   "outputs": [],
   "source": [
    "# dataset[\"Answer\"] = dataset[\"Answer\"].apply(lambda Text: data_clean(Text))\n",
    "# dataset[\"Answer\"] = dataset[\"Answer\"].apply(lambda Text: data_process(Text))"
   ]
  },
  {
   "cell_type": "code",
   "execution_count": 117,
   "id": "66c25edf-f07f-4238-8ccf-ccdaa8c9ab57",
   "metadata": {},
   "outputs": [],
   "source": [
    "dataset.iloc[:, 1:] = dataset.iloc[:, 1:].astype(int)\n",
    "df = dataset"
   ]
  },
  {
   "cell_type": "code",
   "execution_count": 118,
   "id": "fee8e38f-314a-478f-bb1f-1cb2afe5cda7",
   "metadata": {},
   "outputs": [
    {
     "name": "stderr",
     "output_type": "stream",
     "text": [
      "[nltk_data] Downloading package vader_lexicon to\n",
      "[nltk_data]     /home/x-akolli/nltk_data...\n",
      "[nltk_data]   Package vader_lexicon is already up-to-date!\n"
     ]
    }
   ],
   "source": [
    "nltk.download(\"vader_lexicon\")\n",
    "sia = SentimentIntensityAnalyzer()\n",
    "import string\n",
    "\n",
    "list_pos = []\n",
    "list_neg = []\n",
    "list_neu = []\n",
    "list_compound = []\n",
    "\n",
    "for row in range (0, df.shape[0]):\n",
    "    \n",
    "    example_sent = df.iloc[row]['Answer']\n",
    "    example_sent = example_sent.replace(r'.', '')\n",
    "    example_sent = example_sent.replace(r',', '')\n",
    "    example_sent = example_sent.replace(r'!', '')\n",
    "    example_sent = example_sent.replace(r';', '')\n",
    "    example_sent = example_sent.replace(r'?', '')\n",
    "    example_sent = example_sent.replace(r'(', '')\n",
    "    example_sent = example_sent.replace(r')', '')\n",
    "    example_sent = example_sent.replace(r\"'\", '')\n",
    "    \n",
    "    #example_sent = example_sent[0].replace(r'[^\\w\\s]+,', '')\n",
    "    stop_words = set(stopwords.words('english'))\n",
    "    list_contractions_common = {'arent', 'cant', 'couldnt', 'didnt', 'doesnt', 'dont', 'hadnt', 'havent', 'shouldnt', 'wouldnt', 'youve','youre','wont','werent', 'weve','wed', 'theyre', 'Im'}\n",
    "    stop_words.update(list_contractions_common)\n",
    "\n",
    "    word_tokens = word_tokenize(example_sent)\n",
    "    # converts the words in word_tokens to lower case and then checks whether \n",
    "    #they are present in stop_words or not\n",
    "    filtered_sentence = [w for w in word_tokens if not w.lower() in stop_words]\n",
    "    #with no lower case conversion\n",
    "    filtered_sentence = []\n",
    "    for w in word_tokens:\n",
    "        if w not in stop_words:\n",
    "            filtered_sentence.append(w)\n",
    "            \n",
    "    filtered_sentence = ' '.join(filtered_sentence)\n",
    "       \n",
    "            \n",
    "    df.at[row,'Answer'] = filtered_sentence\n",
    "    \n",
    "    list_pos.append((sia.polarity_scores(filtered_sentence))['pos'])\n",
    "    list_neg.append((sia.polarity_scores(filtered_sentence))['neg'])\n",
    "    list_neu.append((sia.polarity_scores(filtered_sentence))['neu'])\n",
    "    list_compound.append((sia.polarity_scores(filtered_sentence))['compound'])\n",
    "    \n",
    "df['positive_score'] = list_pos\n",
    "df['negative_score'] = list_neg\n",
    "df['neutral_score'] = list_neu\n",
    "df['compound_score'] = list_compound"
   ]
  },
  {
   "cell_type": "code",
   "execution_count": 119,
   "id": "76b747f0-efd8-4750-9961-3a6a3a583bd9",
   "metadata": {},
   "outputs": [
    {
     "data": {
      "text/html": [
       "<div>\n",
       "<style scoped>\n",
       "    .dataframe tbody tr th:only-of-type {\n",
       "        vertical-align: middle;\n",
       "    }\n",
       "\n",
       "    .dataframe tbody tr th {\n",
       "        vertical-align: top;\n",
       "    }\n",
       "\n",
       "    .dataframe thead th {\n",
       "        text-align: right;\n",
       "    }\n",
       "</style>\n",
       "<table border=\"1\" class=\"dataframe\">\n",
       "  <thead>\n",
       "    <tr style=\"text-align: right;\">\n",
       "      <th></th>\n",
       "      <th>Answer</th>\n",
       "      <th>Answer.f1.afraid.raw</th>\n",
       "      <th>Answer.f1.angry.raw</th>\n",
       "      <th>Answer.f1.anxious.raw</th>\n",
       "      <th>Answer.f1.ashamed.raw</th>\n",
       "      <th>Answer.f1.awkward.raw</th>\n",
       "      <th>Answer.f1.bored.raw</th>\n",
       "      <th>Answer.f1.calm.raw</th>\n",
       "      <th>Answer.f1.confused.raw</th>\n",
       "      <th>Answer.f1.disgusted.raw</th>\n",
       "      <th>...</th>\n",
       "      <th>Answer.t1.health.raw</th>\n",
       "      <th>Answer.t1.love.raw</th>\n",
       "      <th>Answer.t1.recreation.raw</th>\n",
       "      <th>Answer.t1.school.raw</th>\n",
       "      <th>Answer.t1.sleep.raw</th>\n",
       "      <th>Answer.t1.work.raw</th>\n",
       "      <th>positive_score</th>\n",
       "      <th>negative_score</th>\n",
       "      <th>neutral_score</th>\n",
       "      <th>compound_score</th>\n",
       "    </tr>\n",
       "  </thead>\n",
       "  <tbody>\n",
       "    <tr>\n",
       "      <th>0</th>\n",
       "      <td>My family salient part day since days care 2 c...</td>\n",
       "      <td>0</td>\n",
       "      <td>0</td>\n",
       "      <td>1</td>\n",
       "      <td>0</td>\n",
       "      <td>0</td>\n",
       "      <td>0</td>\n",
       "      <td>0</td>\n",
       "      <td>0</td>\n",
       "      <td>0</td>\n",
       "      <td>...</td>\n",
       "      <td>0</td>\n",
       "      <td>0</td>\n",
       "      <td>0</td>\n",
       "      <td>0</td>\n",
       "      <td>0</td>\n",
       "      <td>0</td>\n",
       "      <td>0.362</td>\n",
       "      <td>0.038</td>\n",
       "      <td>0.600</td>\n",
       "      <td>0.9274</td>\n",
       "    </tr>\n",
       "    <tr>\n",
       "      <th>1</th>\n",
       "      <td>Yoga keeps focused I able take time breath wor...</td>\n",
       "      <td>0</td>\n",
       "      <td>0</td>\n",
       "      <td>0</td>\n",
       "      <td>0</td>\n",
       "      <td>0</td>\n",
       "      <td>0</td>\n",
       "      <td>1</td>\n",
       "      <td>0</td>\n",
       "      <td>0</td>\n",
       "      <td>...</td>\n",
       "      <td>0</td>\n",
       "      <td>0</td>\n",
       "      <td>0</td>\n",
       "      <td>0</td>\n",
       "      <td>0</td>\n",
       "      <td>0</td>\n",
       "      <td>0.253</td>\n",
       "      <td>0.000</td>\n",
       "      <td>0.747</td>\n",
       "      <td>0.5267</td>\n",
       "    </tr>\n",
       "    <tr>\n",
       "      <th>2</th>\n",
       "      <td>Yesterday family I played bunch board games My...</td>\n",
       "      <td>0</td>\n",
       "      <td>0</td>\n",
       "      <td>0</td>\n",
       "      <td>0</td>\n",
       "      <td>0</td>\n",
       "      <td>0</td>\n",
       "      <td>1</td>\n",
       "      <td>0</td>\n",
       "      <td>0</td>\n",
       "      <td>...</td>\n",
       "      <td>0</td>\n",
       "      <td>0</td>\n",
       "      <td>0</td>\n",
       "      <td>0</td>\n",
       "      <td>0</td>\n",
       "      <td>0</td>\n",
       "      <td>0.457</td>\n",
       "      <td>0.061</td>\n",
       "      <td>0.481</td>\n",
       "      <td>0.9300</td>\n",
       "    </tr>\n",
       "    <tr>\n",
       "      <th>3</th>\n",
       "      <td>Yesterday I visited parents dinner I seen week...</td>\n",
       "      <td>0</td>\n",
       "      <td>0</td>\n",
       "      <td>0</td>\n",
       "      <td>0</td>\n",
       "      <td>0</td>\n",
       "      <td>0</td>\n",
       "      <td>1</td>\n",
       "      <td>0</td>\n",
       "      <td>0</td>\n",
       "      <td>...</td>\n",
       "      <td>0</td>\n",
       "      <td>0</td>\n",
       "      <td>0</td>\n",
       "      <td>0</td>\n",
       "      <td>0</td>\n",
       "      <td>0</td>\n",
       "      <td>0.291</td>\n",
       "      <td>0.000</td>\n",
       "      <td>0.709</td>\n",
       "      <td>0.5719</td>\n",
       "    </tr>\n",
       "    <tr>\n",
       "      <th>4</th>\n",
       "      <td>Yesterday I really felt importance health I we...</td>\n",
       "      <td>0</td>\n",
       "      <td>0</td>\n",
       "      <td>0</td>\n",
       "      <td>0</td>\n",
       "      <td>0</td>\n",
       "      <td>0</td>\n",
       "      <td>0</td>\n",
       "      <td>0</td>\n",
       "      <td>0</td>\n",
       "      <td>...</td>\n",
       "      <td>1</td>\n",
       "      <td>0</td>\n",
       "      <td>0</td>\n",
       "      <td>0</td>\n",
       "      <td>0</td>\n",
       "      <td>0</td>\n",
       "      <td>0.296</td>\n",
       "      <td>0.188</td>\n",
       "      <td>0.516</td>\n",
       "      <td>0.4998</td>\n",
       "    </tr>\n",
       "  </tbody>\n",
       "</table>\n",
       "<p>5 rows × 34 columns</p>\n",
       "</div>"
      ],
      "text/plain": [
       "                                              Answer  Answer.f1.afraid.raw  \\\n",
       "0  My family salient part day since days care 2 c...                     0   \n",
       "1  Yoga keeps focused I able take time breath wor...                     0   \n",
       "2  Yesterday family I played bunch board games My...                     0   \n",
       "3  Yesterday I visited parents dinner I seen week...                     0   \n",
       "4  Yesterday I really felt importance health I we...                     0   \n",
       "\n",
       "   Answer.f1.angry.raw  Answer.f1.anxious.raw  Answer.f1.ashamed.raw  \\\n",
       "0                    0                      1                      0   \n",
       "1                    0                      0                      0   \n",
       "2                    0                      0                      0   \n",
       "3                    0                      0                      0   \n",
       "4                    0                      0                      0   \n",
       "\n",
       "   Answer.f1.awkward.raw  Answer.f1.bored.raw  Answer.f1.calm.raw  \\\n",
       "0                      0                    0                   0   \n",
       "1                      0                    0                   1   \n",
       "2                      0                    0                   1   \n",
       "3                      0                    0                   1   \n",
       "4                      0                    0                   0   \n",
       "\n",
       "   Answer.f1.confused.raw  Answer.f1.disgusted.raw  ...  Answer.t1.health.raw  \\\n",
       "0                       0                        0  ...                     0   \n",
       "1                       0                        0  ...                     0   \n",
       "2                       0                        0  ...                     0   \n",
       "3                       0                        0  ...                     0   \n",
       "4                       0                        0  ...                     1   \n",
       "\n",
       "   Answer.t1.love.raw  Answer.t1.recreation.raw  Answer.t1.school.raw  \\\n",
       "0                   0                         0                     0   \n",
       "1                   0                         0                     0   \n",
       "2                   0                         0                     0   \n",
       "3                   0                         0                     0   \n",
       "4                   0                         0                     0   \n",
       "\n",
       "   Answer.t1.sleep.raw  Answer.t1.work.raw  positive_score  negative_score  \\\n",
       "0                    0                   0           0.362           0.038   \n",
       "1                    0                   0           0.253           0.000   \n",
       "2                    0                   0           0.457           0.061   \n",
       "3                    0                   0           0.291           0.000   \n",
       "4                    0                   0           0.296           0.188   \n",
       "\n",
       "   neutral_score  compound_score  \n",
       "0          0.600          0.9274  \n",
       "1          0.747          0.5267  \n",
       "2          0.481          0.9300  \n",
       "3          0.709          0.5719  \n",
       "4          0.516          0.4998  \n",
       "\n",
       "[5 rows x 34 columns]"
      ]
     },
     "execution_count": 119,
     "metadata": {},
     "output_type": "execute_result"
    }
   ],
   "source": [
    "df.head()"
   ]
  },
  {
   "cell_type": "code",
   "execution_count": 120,
   "id": "7bd597ad-707d-4bd2-a580-a8917c786c89",
   "metadata": {},
   "outputs": [
    {
     "name": "stdout",
     "output_type": "stream",
     "text": [
      "<class 'pandas.core.frame.DataFrame'>\n",
      "RangeIndex: 1473 entries, 0 to 1472\n",
      "Data columns (total 34 columns):\n",
      " #   Column                    Non-Null Count  Dtype  \n",
      "---  ------                    --------------  -----  \n",
      " 0   Answer                    1473 non-null   object \n",
      " 1   Answer.f1.afraid.raw      1473 non-null   int64  \n",
      " 2   Answer.f1.angry.raw       1473 non-null   int64  \n",
      " 3   Answer.f1.anxious.raw     1473 non-null   int64  \n",
      " 4   Answer.f1.ashamed.raw     1473 non-null   int64  \n",
      " 5   Answer.f1.awkward.raw     1473 non-null   int64  \n",
      " 6   Answer.f1.bored.raw       1473 non-null   int64  \n",
      " 7   Answer.f1.calm.raw        1473 non-null   int64  \n",
      " 8   Answer.f1.confused.raw    1473 non-null   int64  \n",
      " 9   Answer.f1.disgusted.raw   1473 non-null   int64  \n",
      " 10  Answer.f1.excited.raw     1473 non-null   int64  \n",
      " 11  Answer.f1.frustrated.raw  1473 non-null   int64  \n",
      " 12  Answer.f1.happy.raw       1473 non-null   int64  \n",
      " 13  Answer.f1.jealous.raw     1473 non-null   int64  \n",
      " 14  Answer.f1.nostalgic.raw   1473 non-null   int64  \n",
      " 15  Answer.f1.proud.raw       1473 non-null   int64  \n",
      " 16  Answer.f1.sad.raw         1473 non-null   int64  \n",
      " 17  Answer.f1.satisfied.raw   1473 non-null   int64  \n",
      " 18  Answer.f1.surprised.raw   1473 non-null   int64  \n",
      " 19  Answer.t1.exercise.raw    1473 non-null   int64  \n",
      " 20  Answer.t1.family.raw      1473 non-null   int64  \n",
      " 21  Answer.t1.food.raw        1473 non-null   int64  \n",
      " 22  Answer.t1.friends.raw     1473 non-null   int64  \n",
      " 23  Answer.t1.god.raw         1473 non-null   int64  \n",
      " 24  Answer.t1.health.raw      1473 non-null   int64  \n",
      " 25  Answer.t1.love.raw        1473 non-null   int64  \n",
      " 26  Answer.t1.recreation.raw  1473 non-null   int64  \n",
      " 27  Answer.t1.school.raw      1473 non-null   int64  \n",
      " 28  Answer.t1.sleep.raw       1473 non-null   int64  \n",
      " 29  Answer.t1.work.raw        1473 non-null   int64  \n",
      " 30  positive_score            1473 non-null   float64\n",
      " 31  negative_score            1473 non-null   float64\n",
      " 32  neutral_score             1473 non-null   float64\n",
      " 33  compound_score            1473 non-null   float64\n",
      "dtypes: float64(4), int64(29), object(1)\n",
      "memory usage: 391.4+ KB\n"
     ]
    }
   ],
   "source": [
    "df.info()"
   ]
  },
  {
   "cell_type": "code",
   "execution_count": 121,
   "id": "6cd2d1ea-843e-45e3-8251-cfeae79e4a08",
   "metadata": {},
   "outputs": [],
   "source": [
    "df.rename(columns={\"Answer.f1.afraid.raw\": \"afraid\", \n",
    "                   \"Answer.f1.angry.raw\": \"angry\", \n",
    "                   \"Answer.f1.anxious.raw\": \"anxious\", \n",
    "                   \"Answer.f1.ashamed.raw\": \"ashamed\", \n",
    "                   \"Answer.f1.awkward.raw\": \"awkward\", \n",
    "                   \"Answer.f1.bored.raw\": \"bored\", \n",
    "                   \"Answer.f1.calm.raw\": \"calm\", \n",
    "                   \"Answer.f1.confused.raw\": \"confused\", \n",
    "                   \"Answer.f1.disgusted.raw\": \"disgusted\", \n",
    "                   \"Answer.f1.excited.raw\": \"excited\", \n",
    "                   \"Answer.f1.frustrated.raw\": \"frustrated\", \n",
    "                   \"Answer.f1.happy.raw\": \"happy\", \n",
    "                   \"Answer.f1.jealous.raw\": \"jealous\", \n",
    "                   \"Answer.f1.nostalgic.raw\": \"nostalgic\", \n",
    "                   \"Answer.f1.proud.raw\": \"proud\", \n",
    "                   \"Answer.f1.sad.raw\": \"sad\", \n",
    "                   \"Answer.f1.satisfied.raw\": \"satisfied\", \n",
    "                   \"Answer.f1.surprised.raw\": \"surprised\", \n",
    "                   \"Answer.t1.exercise.raw\": \"exercise\", \n",
    "                   \"Answer.t1.family.raw\": \"family\", \n",
    "                   \"Answer.t1.food.raw\": \"food\", \n",
    "                   \"Answer.t1.friends.raw\": \"friends\", \n",
    "                   \"Answer.t1.god.raw\": \"god\", \n",
    "                   \"Answer.t1.health.raw\": \"health\", \n",
    "                   \"Answer.t1.love.raw\": \"love\", \n",
    "                   \"Answer.t1.recreation.raw\": \"recreation\", \n",
    "                   \"Answer.t1.school.raw\": \"school\", \n",
    "                   \"Answer.t1.sleep.raw\": \"sleep\", \n",
    "                   \"Answer.t1.work.raw\": \"work\",                    \n",
    "                  }, inplace=True)"
   ]
  },
  {
   "cell_type": "code",
   "execution_count": 122,
   "id": "2378d2c9-2d2d-4265-be7c-65bc9562bf56",
   "metadata": {},
   "outputs": [
    {
     "name": "stderr",
     "output_type": "stream",
     "text": [
      "/tmp/ipykernel_4101818/3494996672.py:6: FutureWarning: Series.__getitem__ treating keys as positions is deprecated. In a future version, integer keys will always be treated as labels (consistent with DataFrame behavior). To access a value by position, use `ser.iloc[pos]`\n",
      "  if (df.iloc[row][col] == 1):\n"
     ]
    }
   ],
   "source": [
    "# add emotions into one list\n",
    "final_emotion_list = []\n",
    "for row in range (0, len(df)):\n",
    "    emotion_list = []\n",
    "    for col in range (1, 19):\n",
    "        if (df.iloc[row][col] == 1):\n",
    "            emotion_list.append(df.columns[col])\n",
    "    final_emotion_list.append(emotion_list)"
   ]
  },
  {
   "cell_type": "code",
   "execution_count": 123,
   "id": "44f7117b-4dfd-453d-8fea-08fdf324bc0e",
   "metadata": {},
   "outputs": [
    {
     "name": "stdout",
     "output_type": "stream",
     "text": [
      "1473\n"
     ]
    }
   ],
   "source": [
    "print(len(final_emotion_list))"
   ]
  },
  {
   "cell_type": "code",
   "execution_count": 124,
   "id": "43179975-f863-40ca-acef-fad9874c758c",
   "metadata": {
    "scrolled": true,
    "tags": []
   },
   "outputs": [
    {
     "name": "stdout",
     "output_type": "stream",
     "text": [
      "[['anxious', 'happy', 'proud'], ['calm'], ['calm', 'happy', 'satisfied'], ['calm', 'happy'], ['happy'], ['angry', 'anxious', 'bored', 'frustrated', 'sad'], ['anxious', 'proud', 'satisfied'], ['proud', 'satisfied'], ['happy', 'proud'], ['happy'], ['happy'], ['happy'], ['happy', 'nostalgic', 'proud'], ['excited', 'happy', 'satisfied'], ['excited', 'happy', 'proud'], ['proud'], ['calm', 'happy', 'satisfied'], ['angry', 'frustrated', 'sad'], ['anxious', 'satisfied'], ['happy'], ['excited', 'happy', 'proud'], ['happy'], ['frustrated'], ['bored', 'frustrated', 'satisfied'], ['confused', 'frustrated', 'surprised'], ['happy', 'satisfied'], ['happy', 'satisfied'], ['excited', 'happy', 'satisfied'], ['frustrated'], ['disgusted'], ['excited', 'happy', 'satisfied'], ['confused', 'sad'], ['happy'], ['excited', 'happy'], ['happy', 'proud', 'satisfied'], ['anxious'], ['excited', 'happy', 'proud'], ['satisfied'], ['happy', 'proud', 'satisfied'], ['angry', 'anxious', 'frustrated'], ['proud'], ['calm', 'excited', 'happy'], ['frustrated', 'satisfied'], ['anxious', 'frustrated', 'proud'], ['satisfied'], ['angry', 'anxious'], ['bored', 'frustrated'], ['calm', 'happy', 'satisfied'], ['frustrated'], ['calm', 'happy', 'satisfied'], ['satisfied'], ['anxious', 'surprised'], ['happy', 'satisfied'], ['happy'], ['calm', 'excited', 'happy', 'nostalgic', 'proud', 'satisfied'], ['anxious', 'excited', 'proud'], ['excited'], ['anxious', 'excited'], ['happy', 'satisfied'], ['excited', 'happy', 'proud', 'satisfied'], ['confused', 'excited', 'happy'], ['excited', 'happy', 'proud', 'satisfied'], ['calm', 'satisfied'], ['happy', 'proud', 'satisfied'], ['happy', 'proud', 'satisfied'], ['satisfied'], ['calm'], ['happy'], ['satisfied'], ['happy', 'satisfied', 'surprised'], ['disgusted', 'frustrated', 'sad'], ['happy', 'satisfied', 'surprised'], ['satisfied'], ['calm', 'proud'], ['anxious', 'sad'], ['proud'], ['calm'], ['calm', 'happy', 'satisfied'], ['excited', 'happy', 'satisfied'], ['anxious', 'frustrated', 'surprised'], ['calm', 'satisfied', 'surprised'], ['excited', 'happy', 'satisfied'], ['afraid', 'anxious', 'satisfied'], ['happy', 'nostalgic', 'satisfied'], ['happy'], ['excited', 'happy', 'satisfied'], ['sad'], ['anxious', 'bored', 'frustrated'], ['happy', 'nostalgic', 'satisfied'], ['calm'], ['excited', 'proud', 'satisfied'], ['anxious'], ['excited', 'happy', 'satisfied'], ['excited', 'happy', 'proud'], ['calm', 'happy'], ['excited'], ['afraid', 'happy'], ['happy', 'satisfied'], ['happy'], ['happy'], ['happy', 'proud', 'satisfied'], ['happy', 'proud', 'satisfied'], ['calm', 'happy', 'satisfied'], ['proud', 'satisfied'], ['happy', 'satisfied'], ['happy'], ['happy', 'proud'], ['happy', 'proud', 'satisfied'], ['calm', 'proud', 'satisfied'], ['calm', 'excited', 'proud'], ['bored', 'satisfied'], ['happy', 'proud', 'satisfied'], ['bored', 'calm', 'disgusted'], ['calm', 'happy', 'satisfied'], ['calm', 'excited', 'happy', 'proud', 'satisfied', 'surprised'], ['happy', 'proud', 'satisfied'], ['happy'], ['calm', 'happy', 'nostalgic', 'satisfied', 'surprised'], ['sad'], ['anxious', 'frustrated'], ['proud'], ['happy', 'nostalgic', 'proud'], ['excited', 'happy', 'satisfied'], ['calm', 'happy', 'proud'], ['calm'], ['happy'], ['calm', 'happy', 'satisfied'], ['happy'], ['calm'], ['excited', 'happy'], ['calm', 'excited', 'happy'], ['calm', 'satisfied'], ['calm', 'happy', 'satisfied'], ['happy'], ['anxious', 'frustrated', 'sad'], ['excited', 'happy', 'proud'], ['excited', 'happy', 'satisfied'], ['jealous', 'proud'], ['happy', 'nostalgic', 'proud'], ['calm', 'happy', 'proud', 'satisfied'], ['calm'], ['happy'], ['happy', 'nostalgic', 'proud'], ['calm', 'happy', 'satisfied'], ['angry', 'disgusted', 'frustrated', 'sad'], ['happy'], ['happy', 'satisfied'], ['happy', 'satisfied'], ['proud', 'satisfied'], ['happy', 'satisfied'], ['happy', 'proud', 'satisfied'], ['happy', 'proud'], ['calm', 'happy', 'nostalgic'], ['proud'], ['happy', 'nostalgic', 'proud'], ['afraid'], ['happy'], ['excited', 'happy', 'nostalgic', 'proud', 'satisfied'], ['calm', 'happy', 'satisfied'], ['calm'], ['proud'], ['happy', 'proud', 'satisfied'], ['happy', 'proud', 'satisfied'], ['calm', 'happy', 'proud', 'satisfied'], ['happy', 'satisfied'], ['excited', 'happy'], ['happy'], ['excited', 'happy'], ['calm', 'happy', 'proud', 'surprised'], ['frustrated', 'happy', 'satisfied'], ['anxious', 'bored'], ['happy', 'proud', 'satisfied'], ['happy'], ['anxious', 'disgusted', 'frustrated'], ['nostalgic'], ['calm', 'happy', 'satisfied'], ['excited', 'frustrated', 'happy', 'surprised'], ['happy', 'satisfied'], ['excited', 'happy'], ['bored', 'confused', 'frustrated'], ['satisfied'], ['confused', 'frustrated', 'proud'], ['angry', 'disgusted', 'frustrated'], ['happy'], ['bored'], ['calm', 'happy', 'satisfied'], ['calm'], ['proud'], ['proud', 'satisfied'], ['excited', 'happy', 'proud'], ['happy', 'proud'], ['satisfied'], ['satisfied'], ['happy', 'proud'], ['satisfied'], ['satisfied'], ['anxious', 'confused', 'frustrated'], ['calm', 'proud', 'satisfied'], ['satisfied'], ['anxious', 'disgusted', 'frustrated'], ['happy'], ['excited', 'happy', 'proud'], ['calm', 'happy', 'satisfied'], ['happy', 'proud', 'satisfied'], ['excited', 'proud'], ['excited', 'happy'], ['anxious', 'awkward', 'confused'], ['happy', 'satisfied', 'surprised'], ['excited', 'happy'], ['anxious', 'happy'], ['anxious', 'frustrated'], ['happy', 'satisfied'], ['happy', 'proud', 'satisfied'], ['calm'], ['happy', 'proud', 'satisfied'], ['satisfied'], ['calm', 'happy', 'satisfied'], ['calm', 'satisfied'], ['satisfied'], ['calm', 'happy'], ['happy', 'nostalgic'], ['calm', 'happy'], ['satisfied'], ['excited', 'happy'], ['satisfied'], ['calm', 'excited', 'happy'], ['calm'], ['calm', 'excited', 'happy', 'satisfied'], ['happy', 'satisfied'], ['excited'], ['excited', 'happy', 'proud'], ['calm', 'happy', 'satisfied'], ['happy'], ['happy'], ['proud', 'satisfied'], ['proud'], ['proud'], ['proud'], ['calm'], ['happy', 'proud', 'satisfied'], ['afraid', 'anxious', 'confused', 'frustrated'], ['happy'], ['satisfied'], ['happy', 'proud'], ['happy', 'satisfied'], ['calm', 'happy', 'satisfied'], ['happy'], ['calm', 'excited', 'happy'], ['afraid', 'anxious'], ['awkward', 'happy', 'surprised'], ['excited', 'happy', 'satisfied'], ['awkward', 'frustrated'], ['satisfied'], ['satisfied'], ['satisfied'], ['excited', 'happy', 'satisfied'], ['satisfied'], ['calm', 'happy', 'satisfied'], ['proud', 'satisfied'], ['excited', 'happy', 'satisfied'], ['satisfied'], ['calm', 'satisfied'], ['excited', 'happy', 'proud'], ['frustrated'], ['excited', 'happy', 'satisfied'], ['calm', 'proud', 'satisfied'], ['happy', 'proud', 'satisfied'], ['happy', 'satisfied'], ['happy'], ['happy'], ['satisfied'], ['happy'], ['calm', 'happy'], ['excited', 'happy', 'proud'], ['calm', 'happy', 'proud', 'satisfied'], ['excited', 'happy', 'proud', 'satisfied'], ['calm', 'happy', 'satisfied'], ['calm'], ['satisfied'], ['happy', 'satisfied'], ['excited', 'happy', 'proud'], ['happy'], ['happy'], ['happy'], ['calm', 'happy', 'satisfied'], ['satisfied'], ['disgusted', 'frustrated', 'sad'], ['happy', 'proud', 'satisfied'], ['happy', 'satisfied'], ['happy', 'satisfied'], ['anxious'], ['happy'], ['satisfied'], ['excited'], ['proud'], ['excited', 'proud', 'satisfied'], ['calm', 'happy', 'satisfied'], ['calm', 'happy', 'satisfied'], ['excited', 'happy', 'satisfied'], ['calm', 'happy', 'satisfied'], ['excited', 'happy', 'proud'], ['calm', 'excited', 'proud'], ['calm', 'happy'], ['happy', 'nostalgic'], ['calm', 'happy', 'satisfied'], ['happy'], ['calm'], ['calm', 'happy', 'satisfied'], ['happy', 'proud'], ['happy'], ['calm', 'happy'], ['excited', 'happy', 'satisfied'], ['calm', 'happy', 'nostalgic'], ['calm'], ['happy'], ['excited'], ['calm'], ['proud', 'satisfied'], ['happy', 'proud', 'satisfied'], ['happy', 'proud'], ['happy'], ['happy'], ['happy'], ['excited'], ['happy'], ['anxious', 'surprised'], ['excited', 'happy', 'satisfied'], ['proud', 'satisfied'], ['happy', 'proud'], ['excited', 'happy', 'satisfied'], ['happy'], ['happy', 'proud', 'satisfied'], ['anxious', 'confused', 'frustrated'], ['anxious'], ['proud', 'satisfied'], ['satisfied'], ['ashamed', 'bored', 'frustrated'], ['excited', 'proud', 'satisfied'], ['happy'], ['satisfied'], ['calm'], ['anxious', 'frustrated'], ['angry', 'anxious', 'frustrated'], ['frustrated'], ['anxious', 'bored', 'frustrated'], ['happy', 'proud', 'satisfied'], ['frustrated'], ['anxious', 'frustrated', 'sad'], ['angry', 'anxious', 'frustrated'], ['afraid', 'anxious', 'surprised'], ['bored', 'calm', 'satisfied'], ['calm', 'excited', 'happy', 'satisfied'], ['proud'], ['excited', 'happy'], ['calm'], ['happy'], ['excited', 'happy', 'satisfied'], ['anxious', 'awkward', 'bored'], ['anxious', 'confused', 'frustrated'], ['anxious', 'proud', 'satisfied'], ['excited', 'happy', 'satisfied'], ['happy'], ['nostalgic', 'surprised'], ['ashamed', 'confused', 'proud'], ['happy', 'proud', 'satisfied'], ['excited', 'happy', 'proud'], ['anxious'], ['anxious', 'happy'], ['happy'], ['anxious', 'confused', 'frustrated'], ['anxious', 'frustrated'], ['calm', 'excited', 'happy', 'proud'], ['frustrated'], ['calm', 'proud', 'satisfied'], ['calm'], ['excited', 'happy', 'proud'], ['calm', 'happy', 'satisfied'], ['calm', 'happy', 'satisfied'], ['happy'], ['proud', 'satisfied'], ['calm', 'satisfied'], ['calm', 'happy'], ['excited'], ['satisfied'], ['excited', 'happy', 'proud'], ['proud', 'satisfied'], ['excited', 'happy', 'proud'], ['happy'], ['happy'], ['calm', 'happy', 'satisfied'], ['excited'], ['happy'], ['happy', 'surprised'], ['happy'], ['happy'], ['happy'], ['happy'], ['calm', 'happy', 'proud'], ['calm', 'satisfied'], ['calm', 'happy', 'satisfied'], ['anxious', 'sad'], ['afraid', 'anxious', 'confused', 'frustrated', 'sad', 'surprised'], ['happy', 'proud', 'satisfied'], ['calm', 'excited', 'happy'], ['excited', 'happy', 'proud'], ['bored'], ['happy'], ['calm', 'happy', 'satisfied'], ['calm', 'happy', 'satisfied'], ['excited', 'happy'], ['excited', 'satisfied'], ['calm', 'happy', 'proud'], ['calm', 'happy', 'satisfied'], ['calm', 'happy'], ['calm', 'excited', 'happy', 'satisfied'], ['satisfied'], ['anxious', 'bored', 'sad'], ['proud', 'satisfied'], ['afraid', 'anxious'], ['ashamed'], ['excited', 'happy'], ['calm'], ['happy', 'proud'], ['angry'], ['anxious', 'bored', 'proud'], ['proud'], ['excited', 'proud', 'satisfied'], ['proud'], ['calm', 'happy', 'satisfied'], ['calm', 'happy', 'satisfied'], ['calm', 'excited', 'happy', 'satisfied'], ['happy', 'proud'], ['calm', 'proud', 'satisfied'], ['calm'], ['satisfied'], ['happy', 'proud', 'satisfied'], ['excited', 'proud', 'satisfied'], ['excited'], ['happy', 'surprised'], ['ashamed', 'awkward', 'frustrated'], ['calm', 'excited', 'satisfied'], ['confused', 'frustrated', 'sad'], ['happy', 'satisfied'], ['anxious'], ['anxious', 'frustrated', 'sad'], ['happy', 'proud', 'satisfied'], ['anxious', 'ashamed', 'frustrated'], ['happy', 'satisfied'], ['calm', 'happy', 'nostalgic', 'proud', 'satisfied'], ['happy'], ['angry', 'anxious', 'frustrated'], ['anxious', 'frustrated'], ['calm', 'happy', 'satisfied'], ['satisfied'], ['proud'], ['excited', 'happy', 'proud'], ['anxious', 'happy', 'satisfied'], ['excited', 'happy', 'proud'], ['happy'], ['happy'], ['happy'], ['calm'], ['calm'], ['happy'], ['happy'], ['proud'], ['surprised'], ['proud', 'satisfied'], ['calm'], ['anxious', 'nostalgic'], ['calm', 'happy', 'proud', 'satisfied'], ['happy', 'proud', 'satisfied'], ['happy', 'jealous', 'satisfied'], ['happy', 'proud', 'satisfied'], ['excited', 'happy', 'proud'], ['anxious', 'happy', 'satisfied'], ['happy'], ['happy'], ['excited'], ['calm', 'happy', 'satisfied'], ['happy', 'proud', 'satisfied'], ['proud'], ['happy'], ['disgusted', 'frustrated'], ['anxious', 'happy', 'proud', 'satisfied'], ['calm', 'satisfied'], ['satisfied'], ['excited', 'proud', 'satisfied'], ['excited', 'happy', 'nostalgic'], ['disgusted'], ['calm', 'proud', 'satisfied'], ['satisfied', 'surprised'], ['happy'], ['excited', 'happy', 'proud'], ['calm', 'happy'], ['nostalgic'], ['calm', 'excited', 'happy'], ['calm', 'happy', 'satisfied'], ['happy', 'satisfied'], ['happy'], ['happy'], ['calm'], ['satisfied'], ['satisfied'], ['happy', 'nostalgic'], ['happy', 'satisfied'], ['satisfied'], ['angry', 'anxious', 'sad'], ['angry', 'disgusted'], ['excited', 'happy', 'proud', 'satisfied', 'surprised'], ['excited'], ['anxious', 'frustrated', 'sad'], ['satisfied'], ['happy'], ['excited', 'happy', 'satisfied'], ['happy', 'surprised'], ['happy', 'nostalgic'], ['happy'], ['happy', 'proud', 'satisfied'], ['excited', 'happy'], ['satisfied'], ['satisfied'], ['surprised'], ['satisfied'], ['excited', 'surprised'], ['happy', 'satisfied'], ['happy'], ['surprised'], ['calm'], ['happy', 'satisfied'], ['anxious', 'awkward', 'sad'], ['happy'], ['happy', 'satisfied'], ['happy'], ['calm', 'excited', 'happy'], ['satisfied'], ['excited', 'happy', 'proud'], ['calm', 'satisfied'], ['happy', 'proud'], ['happy', 'satisfied'], ['happy', 'proud', 'satisfied'], ['calm'], ['happy', 'proud'], ['satisfied'], ['surprised'], ['calm', 'proud', 'satisfied'], ['proud', 'satisfied'], ['anxious'], ['satisfied'], ['calm'], ['anxious', 'frustrated'], ['satisfied'], ['calm', 'happy', 'proud', 'satisfied'], ['frustrated'], ['happy'], ['happy', 'nostalgic'], ['happy', 'satisfied'], ['happy'], ['happy'], ['happy'], ['satisfied'], ['anxious', 'disgusted', 'frustrated'], ['happy', 'satisfied'], ['satisfied'], ['happy', 'nostalgic', 'proud'], ['happy'], ['proud'], ['satisfied'], ['calm', 'happy', 'satisfied'], ['happy', 'proud', 'satisfied'], ['proud', 'satisfied'], ['calm', 'happy', 'satisfied'], ['afraid', 'frustrated', 'satisfied'], ['calm', 'happy', 'sad'], ['happy', 'proud', 'satisfied'], ['satisfied'], ['nostalgic', 'surprised'], ['satisfied'], ['anxious', 'ashamed'], ['angry', 'calm', 'satisfied'], ['happy', 'proud', 'satisfied'], ['satisfied'], ['satisfied'], ['calm', 'happy', 'satisfied'], ['happy', 'proud', 'satisfied'], ['calm', 'excited', 'happy', 'proud'], ['satisfied'], ['happy'], ['proud', 'satisfied'], ['happy'], ['calm'], ['calm'], ['proud'], ['calm', 'happy', 'proud'], ['anxious'], ['anxious', 'frustrated'], ['satisfied'], ['calm', 'excited'], ['anxious', 'bored', 'frustrated'], ['calm', 'happy', 'satisfied'], ['calm', 'excited', 'happy', 'nostalgic', 'proud', 'satisfied', 'surprised'], ['calm', 'happy', 'proud'], ['happy', 'nostalgic', 'satisfied'], ['happy'], ['excited', 'frustrated'], ['excited', 'happy', 'satisfied', 'surprised'], ['proud', 'satisfied'], ['frustrated'], ['excited', 'happy'], ['calm'], ['excited', 'happy', 'proud'], ['frustrated'], ['excited'], ['anxious'], ['excited'], ['calm'], ['proud'], ['happy', 'proud', 'satisfied'], ['calm'], ['excited', 'happy', 'surprised'], ['proud', 'satisfied'], ['calm', 'happy', 'satisfied'], ['awkward'], ['bored', 'frustrated'], ['satisfied'], ['anxious', 'frustrated', 'sad'], ['excited', 'proud'], ['excited', 'happy', 'surprised'], ['happy'], ['excited', 'happy', 'satisfied'], ['excited'], ['happy'], ['satisfied'], ['happy'], ['calm', 'happy', 'proud', 'satisfied'], ['afraid', 'frustrated'], ['calm'], ['happy', 'satisfied'], ['calm', 'happy'], ['calm', 'happy'], ['happy'], ['bored', 'calm', 'satisfied'], ['happy'], ['calm', 'excited', 'proud'], ['afraid'], ['satisfied'], ['happy'], ['proud'], ['excited', 'happy', 'satisfied'], ['calm', 'excited', 'happy'], ['calm'], ['happy'], ['excited', 'happy'], ['calm', 'happy', 'satisfied'], ['frustrated', 'satisfied'], ['satisfied'], ['calm', 'happy', 'proud'], ['satisfied'], ['happy'], ['anxious', 'frustrated'], ['frustrated'], ['calm', 'happy'], ['calm', 'excited', 'nostalgic'], ['happy'], ['anxious', 'frustrated', 'sad'], ['satisfied'], ['angry'], ['excited', 'frustrated', 'satisfied'], ['calm', 'happy', 'satisfied'], ['calm', 'proud'], ['excited', 'happy', 'satisfied'], ['frustrated'], ['happy', 'proud', 'satisfied'], ['angry', 'anxious', 'frustrated'], ['happy'], ['excited', 'satisfied', 'surprised'], ['happy'], ['happy'], ['happy'], ['calm', 'satisfied'], ['calm', 'satisfied', 'surprised'], ['happy', 'satisfied'], ['frustrated', 'happy'], ['satisfied'], ['satisfied'], ['proud', 'satisfied'], ['calm', 'satisfied'], ['happy', 'nostalgic', 'proud'], ['excited', 'happy', 'satisfied'], ['happy'], ['calm', 'happy'], ['satisfied'], ['calm', 'proud', 'satisfied'], ['happy', 'proud', 'satisfied'], ['frustrated'], ['happy'], ['happy', 'proud', 'satisfied'], ['calm', 'satisfied'], ['happy', 'satisfied'], ['satisfied'], ['happy', 'satisfied'], ['calm'], ['excited', 'happy'], ['proud', 'satisfied'], ['proud'], ['excited', 'happy', 'surprised'], ['happy'], ['happy', 'surprised'], ['excited', 'happy', 'satisfied'], ['calm', 'happy'], ['happy'], ['disgusted'], ['anxious'], ['excited', 'satisfied'], ['proud', 'satisfied'], ['proud'], ['happy', 'proud', 'satisfied'], ['happy'], ['happy', 'proud', 'satisfied'], ['frustrated'], ['calm', 'proud', 'satisfied'], ['excited', 'happy'], ['calm', 'excited', 'happy'], ['calm'], ['calm'], ['calm', 'happy', 'satisfied'], ['happy', 'satisfied'], ['angry'], ['happy'], ['proud'], ['afraid', 'frustrated'], ['calm', 'satisfied'], ['happy'], ['happy'], ['happy', 'surprised'], ['happy'], ['excited', 'proud', 'satisfied'], ['happy'], ['bored', 'frustrated', 'sad'], ['happy'], ['happy', 'proud', 'satisfied'], ['frustrated', 'proud', 'satisfied'], ['proud', 'satisfied'], ['proud'], ['calm', 'satisfied'], ['satisfied'], ['happy', 'proud', 'satisfied'], ['happy'], ['happy', 'proud', 'satisfied'], ['happy'], ['calm', 'happy', 'satisfied'], ['happy', 'nostalgic'], ['happy', 'proud'], ['excited', 'proud', 'surprised'], ['frustrated'], ['happy', 'proud', 'satisfied'], ['calm', 'happy'], ['disgusted', 'frustrated'], ['excited', 'satisfied'], ['happy'], ['calm', 'happy', 'satisfied'], ['happy'], ['frustrated'], ['calm', 'satisfied'], ['calm', 'excited', 'happy'], ['excited', 'happy', 'satisfied'], ['excited', 'happy', 'proud', 'satisfied'], ['satisfied'], ['bored'], ['excited'], ['happy', 'proud'], ['excited', 'happy', 'satisfied'], ['proud'], ['satisfied'], ['satisfied'], ['excited', 'happy', 'proud'], ['happy', 'proud'], ['happy'], ['calm', 'satisfied'], ['bored', 'calm', 'frustrated'], ['bored'], ['satisfied'], ['satisfied'], ['frustrated'], ['proud'], ['satisfied'], ['happy', 'nostalgic'], ['calm', 'happy', 'satisfied'], ['proud', 'satisfied'], ['bored', 'frustrated'], ['excited', 'happy', 'proud', 'satisfied'], ['happy', 'nostalgic', 'satisfied'], ['satisfied'], ['calm', 'happy', 'satisfied'], ['happy'], ['happy'], ['calm'], ['proud', 'satisfied'], ['anxious', 'excited'], ['excited', 'proud'], ['anxious'], ['happy', 'proud'], ['excited', 'happy', 'satisfied'], ['anxious', 'proud'], ['calm'], ['calm'], ['proud'], ['calm', 'proud'], ['calm', 'happy'], ['excited', 'happy', 'proud'], ['excited', 'satisfied'], ['excited'], ['angry', 'sad'], ['happy'], ['proud'], ['calm'], ['anxious', 'frustrated'], ['calm', 'happy'], ['calm', 'happy'], ['happy', 'satisfied'], ['anxious', 'bored'], ['calm'], ['excited', 'happy', 'satisfied'], ['satisfied'], ['sad'], ['satisfied'], ['excited', 'happy', 'proud'], ['confused', 'frustrated', 'happy'], ['happy'], ['calm', 'happy', 'proud'], ['proud'], ['surprised'], ['happy', 'satisfied'], ['happy', 'satisfied'], ['frustrated'], ['angry', 'ashamed', 'frustrated'], ['anxious', 'excited', 'proud'], ['happy', 'satisfied'], ['calm', 'happy'], ['anxious', 'confused', 'frustrated'], ['excited', 'happy', 'proud'], ['calm'], ['happy', 'satisfied'], ['happy'], ['calm', 'satisfied'], ['happy'], ['bored'], ['excited', 'happy'], ['calm', 'satisfied'], ['happy', 'satisfied', 'surprised'], ['excited', 'proud', 'satisfied'], ['calm', 'proud'], ['excited', 'happy'], ['awkward', 'confused'], ['proud'], ['calm', 'happy', 'satisfied'], ['happy'], ['calm', 'satisfied'], ['happy'], ['calm'], ['sad'], ['awkward', 'satisfied'], ['excited', 'proud'], ['happy'], ['happy', 'nostalgic'], ['proud'], ['excited', 'frustrated', 'happy'], ['calm', 'happy', 'proud'], ['anxious', 'confused', 'frustrated'], ['happy'], ['calm', 'happy', 'satisfied'], ['happy', 'satisfied'], ['bored', 'satisfied'], ['happy'], ['bored', 'frustrated'], ['excited', 'proud', 'satisfied'], ['excited'], ['proud', 'satisfied', 'surprised'], ['happy', 'satisfied'], ['excited', 'happy'], ['anxious', 'happy', 'surprised'], ['calm', 'happy'], ['proud'], ['anxious', 'confused'], ['calm'], ['excited'], ['anxious'], ['satisfied'], ['excited', 'proud'], ['excited', 'happy'], ['calm', 'frustrated', 'satisfied'], ['excited', 'happy'], ['anxious', 'excited', 'happy', 'nostalgic', 'proud', 'satisfied'], ['excited', 'happy', 'proud'], ['angry', 'awkward', 'bored'], ['calm', 'happy', 'proud'], ['calm'], ['excited'], ['happy'], ['calm', 'happy', 'satisfied'], ['calm'], ['satisfied'], ['calm'], ['calm', 'proud'], ['satisfied'], ['excited', 'happy'], ['happy'], ['calm'], ['happy'], ['happy'], ['satisfied'], ['calm', 'proud'], ['happy'], ['happy', 'satisfied'], ['awkward'], ['calm', 'satisfied'], ['happy'], ['calm', 'happy'], ['sad'], ['happy', 'satisfied'], ['happy', 'satisfied'], ['calm', 'excited', 'happy', 'satisfied'], ['calm', 'excited'], ['proud', 'satisfied'], ['calm'], ['happy', 'nostalgic'], ['excited', 'happy', 'satisfied'], ['excited', 'happy'], ['happy'], ['proud'], ['bored'], ['calm', 'nostalgic', 'satisfied'], ['excited', 'happy', 'surprised'], ['happy', 'satisfied'], ['satisfied'], ['proud', 'surprised'], ['bored', 'frustrated', 'proud'], ['excited', 'happy', 'proud'], ['anxious', 'excited'], ['excited', 'happy', 'proud', 'satisfied'], ['happy', 'nostalgic', 'proud', 'sad'], ['happy', 'proud', 'satisfied'], ['happy', 'satisfied'], ['anxious', 'frustrated', 'proud'], ['happy'], ['happy', 'nostalgic', 'satisfied'], ['calm', 'happy'], ['nostalgic', 'proud', 'satisfied'], ['calm', 'proud'], ['excited', 'happy'], ['excited', 'satisfied'], ['excited'], ['calm', 'happy'], ['satisfied'], ['proud'], ['satisfied'], ['calm'], ['angry', 'anxious', 'frustrated'], ['satisfied'], ['calm'], ['calm', 'satisfied'], ['anxious', 'frustrated'], ['calm', 'happy', 'proud'], ['calm'], ['excited', 'happy', 'satisfied'], ['excited', 'happy', 'satisfied'], ['bored', 'frustrated', 'happy'], ['anxious'], ['calm'], ['happy'], ['happy', 'satisfied'], ['excited', 'happy', 'proud', 'satisfied'], ['happy'], ['happy'], ['anxious', 'bored'], ['calm', 'excited', 'happy'], ['anxious', 'satisfied'], ['happy'], ['excited', 'happy', 'proud'], ['calm', 'satisfied'], ['satisfied'], ['anxious', 'excited', 'frustrated', 'proud'], ['happy', 'satisfied'], ['calm'], ['calm', 'happy'], ['satisfied', 'surprised'], ['calm'], ['calm', 'excited', 'happy'], ['calm', 'happy', 'nostalgic'], ['satisfied'], ['happy', 'proud'], ['satisfied'], ['happy'], ['proud'], ['proud'], ['happy'], ['calm', 'happy', 'satisfied'], ['satisfied'], ['bored', 'satisfied'], ['disgusted'], ['anxious', 'happy', 'satisfied'], ['angry'], ['excited', 'happy', 'satisfied'], ['satisfied'], ['proud'], ['happy', 'proud', 'surprised'], ['happy', 'satisfied'], ['happy', 'proud', 'satisfied'], ['proud', 'satisfied'], ['bored', 'calm'], ['excited', 'happy', 'nostalgic'], ['satisfied'], ['happy'], ['excited', 'proud'], ['proud'], ['calm'], ['happy'], ['happy'], ['satisfied'], ['happy'], ['calm', 'happy'], ['afraid', 'anxious', 'frustrated'], ['excited'], ['calm'], ['calm', 'happy'], ['anxious', 'calm', 'excited'], ['happy', 'nostalgic'], ['calm', 'happy'], ['calm', 'satisfied'], ['happy', 'satisfied'], ['happy'], ['calm', 'happy', 'satisfied'], ['proud'], ['calm', 'happy'], ['bored', 'calm'], ['nostalgic'], ['anxious', 'confused', 'frustrated', 'satisfied'], ['happy'], ['happy'], ['anxious'], ['satisfied'], ['calm', 'happy', 'proud', 'satisfied'], ['happy'], ['happy', 'satisfied'], ['calm'], ['excited', 'happy', 'surprised'], ['proud'], ['happy', 'satisfied'], ['satisfied'], ['happy'], ['proud'], ['calm', 'happy', 'satisfied'], ['calm', 'happy', 'surprised'], ['happy', 'proud'], ['satisfied'], ['satisfied', 'surprised'], ['happy', 'proud'], ['calm'], ['happy'], ['calm', 'happy'], ['excited', 'happy', 'satisfied'], ['anxious', 'happy', 'proud'], ['proud', 'satisfied', 'surprised'], ['afraid', 'disgusted', 'sad'], ['sad', 'satisfied'], ['excited', 'happy', 'satisfied'], ['happy'], ['happy', 'satisfied'], ['calm'], ['frustrated'], ['bored', 'satisfied'], ['anxious', 'ashamed'], ['excited', 'happy', 'proud'], ['calm'], ['happy', 'surprised'], ['ashamed', 'disgusted'], ['calm', 'happy', 'proud'], ['proud'], ['happy'], ['calm', 'satisfied'], ['satisfied'], ['calm'], ['nostalgic', 'satisfied'], ['proud'], ['calm'], ['proud', 'satisfied'], ['happy', 'satisfied'], ['happy', 'proud'], ['proud', 'satisfied'], ['excited', 'happy', 'satisfied'], ['happy', 'proud', 'satisfied'], ['excited', 'happy', 'proud', 'satisfied'], ['happy', 'proud', 'satisfied'], ['calm', 'happy', 'satisfied'], ['calm'], ['calm'], ['excited', 'happy', 'proud', 'surprised'], ['nostalgic', 'satisfied'], ['satisfied'], ['calm', 'happy'], ['satisfied'], ['calm'], ['satisfied'], ['frustrated'], ['ashamed', 'excited', 'happy', 'satisfied'], ['calm', 'proud'], ['calm', 'happy'], ['satisfied'], ['happy', 'satisfied'], ['satisfied'], ['awkward'], ['calm', 'happy', 'surprised'], ['happy', 'satisfied', 'surprised'], ['proud'], ['excited', 'happy', 'proud'], ['proud'], ['calm', 'happy', 'satisfied'], ['happy'], ['happy', 'proud', 'satisfied'], ['angry', 'frustrated'], ['anxious', 'calm', 'satisfied'], ['calm', 'happy', 'satisfied'], ['happy', 'satisfied'], ['anxious'], ['proud'], ['excited', 'happy', 'proud', 'satisfied'], ['frustrated'], ['proud'], ['calm', 'satisfied'], ['happy'], ['calm', 'happy', 'proud', 'satisfied'], ['calm', 'happy', 'satisfied'], ['satisfied'], ['frustrated'], ['ashamed', 'disgusted', 'surprised'], ['happy'], ['satisfied'], ['bored'], ['proud'], ['calm', 'happy', 'proud', 'satisfied'], ['happy', 'proud'], ['satisfied'], ['frustrated'], ['calm', 'satisfied'], ['happy', 'nostalgic', 'satisfied'], ['calm'], ['happy'], ['calm', 'satisfied'], ['calm'], ['happy'], ['frustrated', 'happy', 'satisfied'], ['disgusted'], ['happy'], ['calm', 'happy', 'satisfied'], ['proud'], ['calm', 'excited', 'happy'], ['happy'], ['happy', 'satisfied'], ['ashamed', 'happy', 'satisfied'], ['satisfied'], ['calm', 'proud'], ['anxious', 'excited', 'proud'], ['satisfied'], ['afraid', 'calm', 'happy'], ['anxious', 'confused', 'sad'], ['sad'], ['calm', 'happy'], ['calm'], ['satisfied'], ['satisfied'], ['proud', 'satisfied'], ['excited', 'happy', 'nostalgic'], ['calm', 'happy'], ['happy'], ['proud'], ['calm'], ['calm'], ['happy'], ['calm', 'happy', 'satisfied'], ['happy', 'surprised'], ['happy'], ['calm', 'happy', 'satisfied'], ['satisfied'], ['happy', 'nostalgic', 'surprised'], ['calm', 'excited', 'happy'], ['happy', 'satisfied'], ['calm'], ['happy', 'satisfied'], ['confused', 'frustrated'], ['frustrated'], ['bored'], ['satisfied'], ['calm', 'satisfied'], ['excited', 'happy', 'proud'], ['calm', 'happy', 'satisfied'], ['excited'], ['calm', 'nostalgic', 'sad'], ['satisfied'], ['afraid', 'anxious', 'frustrated'], ['anxious', 'frustrated', 'sad'], ['excited'], ['calm'], ['ashamed', 'bored', 'calm'], ['happy'], ['excited', 'happy'], ['disgusted'], ['calm'], ['calm', 'happy', 'satisfied'], ['frustrated', 'satisfied'], ['bored', 'calm', 'frustrated', 'happy', 'proud', 'satisfied'], ['proud'], ['excited', 'happy', 'proud', 'satisfied'], ['calm'], ['excited', 'happy', 'proud'], ['excited'], ['calm'], ['happy', 'satisfied'], ['satisfied'], ['calm'], ['satisfied'], ['happy'], ['calm', 'satisfied'], ['anxious', 'frustrated'], ['proud'], ['happy', 'surprised'], ['anxious', 'excited', 'happy'], ['anxious'], ['calm', 'happy', 'satisfied'], ['proud'], ['calm', 'happy', 'satisfied'], ['satisfied'], ['excited', 'happy', 'satisfied'], ['happy', 'nostalgic', 'satisfied'], ['bored', 'frustrated'], ['calm'], ['excited', 'happy', 'satisfied'], ['calm'], ['calm', 'nostalgic'], ['happy'], ['excited', 'happy', 'satisfied'], ['excited'], ['calm', 'satisfied'], ['satisfied'], ['satisfied'], ['calm', 'happy', 'satisfied'], ['frustrated'], ['happy', 'satisfied'], ['happy', 'nostalgic', 'satisfied'], ['calm', 'happy', 'proud'], ['anxious', 'frustrated'], ['calm'], ['happy'], ['satisfied'], ['anxious'], ['proud', 'satisfied'], ['calm', 'satisfied'], ['satisfied'], ['excited', 'happy', 'proud', 'satisfied'], ['happy', 'proud', 'satisfied'], ['disgusted'], ['proud'], ['calm', 'satisfied'], ['happy', 'proud', 'satisfied'], ['calm'], ['satisfied'], ['excited'], ['calm', 'happy', 'satisfied'], ['satisfied'], ['anxious', 'sad'], ['bored', 'calm', 'satisfied'], ['happy', 'proud', 'satisfied'], ['happy', 'nostalgic'], ['calm'], ['happy'], ['satisfied'], ['calm'], ['sad'], ['anxious', 'frustrated'], ['anxious', 'frustrated'], ['happy'], ['happy', 'satisfied'], ['excited', 'happy', 'proud', 'satisfied'], ['calm', 'happy', 'satisfied'], ['happy', 'nostalgic', 'satisfied'], ['satisfied'], ['calm', 'happy'], ['calm'], ['calm'], ['sad'], ['calm', 'proud', 'satisfied'], ['excited', 'happy', 'satisfied'], ['surprised'], ['happy', 'satisfied'], ['excited', 'satisfied'], ['calm', 'happy', 'satisfied'], ['satisfied'], ['satisfied'], ['excited'], ['calm', 'proud'], ['calm', 'happy'], ['happy', 'proud', 'satisfied'], ['calm', 'happy', 'proud', 'satisfied'], ['nostalgic'], ['frustrated'], ['happy'], ['calm'], ['happy'], ['calm', 'happy'], ['happy'], ['satisfied'], ['excited', 'happy', 'surprised'], ['ashamed', 'awkward', 'sad'], ['satisfied'], ['calm', 'satisfied'], ['happy', 'satisfied'], ['happy'], ['calm', 'confused', 'excited', 'happy'], ['happy', 'proud'], ['happy', 'sad'], ['excited', 'happy', 'satisfied'], ['satisfied'], ['happy'], ['satisfied'], ['happy', 'satisfied'], ['excited', 'proud', 'satisfied'], ['proud'], ['angry', 'anxious', 'frustrated'], ['calm', 'happy', 'satisfied'], ['happy', 'nostalgic', 'satisfied'], ['calm', 'happy'], ['ashamed', 'happy', 'satisfied'], ['excited', 'happy', 'satisfied'], ['happy', 'satisfied'], ['calm', 'excited', 'happy', 'proud', 'satisfied'], ['satisfied'], ['proud', 'satisfied'], ['excited'], ['happy'], ['calm', 'satisfied'], ['excited', 'happy', 'proud'], ['proud'], ['excited', 'happy', 'satisfied'], ['happy', 'satisfied'], ['proud'], ['bored'], ['calm'], ['excited', 'happy', 'proud'], ['happy', 'proud'], ['afraid', 'jealous'], ['happy'], ['anxious'], ['frustrated'], ['happy', 'nostalgic'], ['excited', 'frustrated', 'satisfied'], ['satisfied'], ['calm', 'satisfied'], ['happy'], ['happy', 'nostalgic', 'satisfied'], ['excited', 'happy', 'satisfied'], ['anxious', 'awkward', 'frustrated'], ['happy'], ['calm', 'satisfied'], ['frustrated', 'sad'], ['excited', 'happy'], ['calm'], ['confused', 'frustrated'], ['excited', 'proud'], ['excited', 'proud'], ['calm', 'happy', 'proud'], ['excited', 'happy'], ['satisfied'], ['anxious', 'happy', 'satisfied'], ['happy'], ['happy', 'proud'], ['surprised'], ['satisfied'], ['calm'], ['calm', 'satisfied'], ['proud'], ['confused'], ['calm'], ['happy'], ['calm', 'satisfied'], ['ashamed', 'frustrated', 'sad'], ['excited', 'happy', 'proud'], ['calm'], ['confused', 'surprised'], ['frustrated'], ['proud'], ['happy', 'satisfied'], ['calm', 'happy', 'nostalgic'], ['calm', 'happy', 'proud'], ['happy'], ['anxious', 'bored'], ['happy', 'satisfied'], ['excited'], ['excited', 'happy'], ['happy'], ['calm', 'happy'], ['excited', 'happy'], ['excited', 'happy'], ['excited'], ['excited'], ['angry'], ['happy', 'satisfied'], ['angry'], ['anxious', 'awkward', 'confused'], ['proud'], ['happy', 'satisfied'], ['bored'], ['calm', 'satisfied'], ['calm', 'satisfied'], ['calm', 'happy', 'satisfied'], ['excited', 'proud'], ['calm', 'happy', 'satisfied'], ['calm'], ['anxious', 'frustrated'], ['frustrated', 'satisfied'], ['calm', 'satisfied'], ['proud'], ['calm'], ['frustrated'], ['excited', 'proud', 'satisfied'], ['afraid', 'anxious', 'sad'], ['happy', 'satisfied'], ['anxious'], ['calm', 'satisfied'], ['bored', 'frustrated'], ['calm', 'confused', 'happy'], ['calm'], ['calm'], ['satisfied'], ['angry', 'frustrated', 'surprised'], ['satisfied'], ['calm', 'happy', 'satisfied'], ['calm'], ['excited', 'happy', 'satisfied'], ['happy', 'satisfied'], ['excited', 'frustrated', 'nostalgic'], ['angry', 'disgusted', 'frustrated'], ['frustrated'], ['satisfied'], ['excited', 'happy'], ['happy'], ['happy'], ['sad'], ['satisfied'], ['frustrated'], ['happy'], ['proud', 'satisfied'], ['calm', 'excited', 'happy'], ['anxious', 'calm', 'satisfied'], ['satisfied'], ['calm', 'happy', 'satisfied'], ['nostalgic'], ['angry', 'frustrated', 'surprised'], ['calm', 'happy', 'satisfied'], ['ashamed', 'bored', 'frustrated'], ['frustrated'], ['proud', 'satisfied'], ['calm'], ['calm', 'happy'], ['calm', 'happy', 'satisfied'], ['happy'], ['happy'], ['excited', 'happy', 'satisfied'], ['happy', 'surprised'], ['bored', 'frustrated', 'proud'], ['happy', 'satisfied'], ['calm', 'happy'], ['happy', 'proud'], ['happy'], ['calm', 'satisfied']]\n"
     ]
    }
   ],
   "source": [
    "print((final_emotion_list))"
   ]
  },
  {
   "cell_type": "code",
   "execution_count": 125,
   "id": "8ebc1387-ed40-42d9-8704-65d0d8203dad",
   "metadata": {},
   "outputs": [],
   "source": [
    "df['Emotions Felt'] = final_emotion_list"
   ]
  },
  {
   "cell_type": "code",
   "execution_count": 126,
   "id": "a8014faa-ef8a-4db4-b3e3-202b7a0d78f5",
   "metadata": {},
   "outputs": [
    {
     "data": {
      "text/html": [
       "<div>\n",
       "<style scoped>\n",
       "    .dataframe tbody tr th:only-of-type {\n",
       "        vertical-align: middle;\n",
       "    }\n",
       "\n",
       "    .dataframe tbody tr th {\n",
       "        vertical-align: top;\n",
       "    }\n",
       "\n",
       "    .dataframe thead th {\n",
       "        text-align: right;\n",
       "    }\n",
       "</style>\n",
       "<table border=\"1\" class=\"dataframe\">\n",
       "  <thead>\n",
       "    <tr style=\"text-align: right;\">\n",
       "      <th></th>\n",
       "      <th>Answer</th>\n",
       "      <th>afraid</th>\n",
       "      <th>angry</th>\n",
       "      <th>anxious</th>\n",
       "      <th>ashamed</th>\n",
       "      <th>awkward</th>\n",
       "      <th>bored</th>\n",
       "      <th>calm</th>\n",
       "      <th>confused</th>\n",
       "      <th>disgusted</th>\n",
       "      <th>...</th>\n",
       "      <th>love</th>\n",
       "      <th>recreation</th>\n",
       "      <th>school</th>\n",
       "      <th>sleep</th>\n",
       "      <th>work</th>\n",
       "      <th>positive_score</th>\n",
       "      <th>negative_score</th>\n",
       "      <th>neutral_score</th>\n",
       "      <th>compound_score</th>\n",
       "      <th>Emotions Felt</th>\n",
       "    </tr>\n",
       "  </thead>\n",
       "  <tbody>\n",
       "    <tr>\n",
       "      <th>0</th>\n",
       "      <td>My family salient part day since days care 2 c...</td>\n",
       "      <td>0</td>\n",
       "      <td>0</td>\n",
       "      <td>1</td>\n",
       "      <td>0</td>\n",
       "      <td>0</td>\n",
       "      <td>0</td>\n",
       "      <td>0</td>\n",
       "      <td>0</td>\n",
       "      <td>0</td>\n",
       "      <td>...</td>\n",
       "      <td>0</td>\n",
       "      <td>0</td>\n",
       "      <td>0</td>\n",
       "      <td>0</td>\n",
       "      <td>0</td>\n",
       "      <td>0.362</td>\n",
       "      <td>0.038</td>\n",
       "      <td>0.600</td>\n",
       "      <td>0.9274</td>\n",
       "      <td>[anxious, happy, proud]</td>\n",
       "    </tr>\n",
       "    <tr>\n",
       "      <th>1</th>\n",
       "      <td>Yoga keeps focused I able take time breath wor...</td>\n",
       "      <td>0</td>\n",
       "      <td>0</td>\n",
       "      <td>0</td>\n",
       "      <td>0</td>\n",
       "      <td>0</td>\n",
       "      <td>0</td>\n",
       "      <td>1</td>\n",
       "      <td>0</td>\n",
       "      <td>0</td>\n",
       "      <td>...</td>\n",
       "      <td>0</td>\n",
       "      <td>0</td>\n",
       "      <td>0</td>\n",
       "      <td>0</td>\n",
       "      <td>0</td>\n",
       "      <td>0.253</td>\n",
       "      <td>0.000</td>\n",
       "      <td>0.747</td>\n",
       "      <td>0.5267</td>\n",
       "      <td>[calm]</td>\n",
       "    </tr>\n",
       "    <tr>\n",
       "      <th>2</th>\n",
       "      <td>Yesterday family I played bunch board games My...</td>\n",
       "      <td>0</td>\n",
       "      <td>0</td>\n",
       "      <td>0</td>\n",
       "      <td>0</td>\n",
       "      <td>0</td>\n",
       "      <td>0</td>\n",
       "      <td>1</td>\n",
       "      <td>0</td>\n",
       "      <td>0</td>\n",
       "      <td>...</td>\n",
       "      <td>0</td>\n",
       "      <td>0</td>\n",
       "      <td>0</td>\n",
       "      <td>0</td>\n",
       "      <td>0</td>\n",
       "      <td>0.457</td>\n",
       "      <td>0.061</td>\n",
       "      <td>0.481</td>\n",
       "      <td>0.9300</td>\n",
       "      <td>[calm, happy, satisfied]</td>\n",
       "    </tr>\n",
       "    <tr>\n",
       "      <th>3</th>\n",
       "      <td>Yesterday I visited parents dinner I seen week...</td>\n",
       "      <td>0</td>\n",
       "      <td>0</td>\n",
       "      <td>0</td>\n",
       "      <td>0</td>\n",
       "      <td>0</td>\n",
       "      <td>0</td>\n",
       "      <td>1</td>\n",
       "      <td>0</td>\n",
       "      <td>0</td>\n",
       "      <td>...</td>\n",
       "      <td>0</td>\n",
       "      <td>0</td>\n",
       "      <td>0</td>\n",
       "      <td>0</td>\n",
       "      <td>0</td>\n",
       "      <td>0.291</td>\n",
       "      <td>0.000</td>\n",
       "      <td>0.709</td>\n",
       "      <td>0.5719</td>\n",
       "      <td>[calm, happy]</td>\n",
       "    </tr>\n",
       "    <tr>\n",
       "      <th>4</th>\n",
       "      <td>Yesterday I really felt importance health I we...</td>\n",
       "      <td>0</td>\n",
       "      <td>0</td>\n",
       "      <td>0</td>\n",
       "      <td>0</td>\n",
       "      <td>0</td>\n",
       "      <td>0</td>\n",
       "      <td>0</td>\n",
       "      <td>0</td>\n",
       "      <td>0</td>\n",
       "      <td>...</td>\n",
       "      <td>0</td>\n",
       "      <td>0</td>\n",
       "      <td>0</td>\n",
       "      <td>0</td>\n",
       "      <td>0</td>\n",
       "      <td>0.296</td>\n",
       "      <td>0.188</td>\n",
       "      <td>0.516</td>\n",
       "      <td>0.4998</td>\n",
       "      <td>[happy]</td>\n",
       "    </tr>\n",
       "  </tbody>\n",
       "</table>\n",
       "<p>5 rows × 35 columns</p>\n",
       "</div>"
      ],
      "text/plain": [
       "                                              Answer  afraid  angry  anxious  \\\n",
       "0  My family salient part day since days care 2 c...       0      0        1   \n",
       "1  Yoga keeps focused I able take time breath wor...       0      0        0   \n",
       "2  Yesterday family I played bunch board games My...       0      0        0   \n",
       "3  Yesterday I visited parents dinner I seen week...       0      0        0   \n",
       "4  Yesterday I really felt importance health I we...       0      0        0   \n",
       "\n",
       "   ashamed  awkward  bored  calm  confused  disgusted  ...  love  recreation  \\\n",
       "0        0        0      0     0         0          0  ...     0           0   \n",
       "1        0        0      0     1         0          0  ...     0           0   \n",
       "2        0        0      0     1         0          0  ...     0           0   \n",
       "3        0        0      0     1         0          0  ...     0           0   \n",
       "4        0        0      0     0         0          0  ...     0           0   \n",
       "\n",
       "   school  sleep  work  positive_score  negative_score  neutral_score  \\\n",
       "0       0      0     0           0.362           0.038          0.600   \n",
       "1       0      0     0           0.253           0.000          0.747   \n",
       "2       0      0     0           0.457           0.061          0.481   \n",
       "3       0      0     0           0.291           0.000          0.709   \n",
       "4       0      0     0           0.296           0.188          0.516   \n",
       "\n",
       "   compound_score             Emotions Felt  \n",
       "0          0.9274   [anxious, happy, proud]  \n",
       "1          0.5267                    [calm]  \n",
       "2          0.9300  [calm, happy, satisfied]  \n",
       "3          0.5719             [calm, happy]  \n",
       "4          0.4998                   [happy]  \n",
       "\n",
       "[5 rows x 35 columns]"
      ]
     },
     "execution_count": 126,
     "metadata": {},
     "output_type": "execute_result"
    }
   ],
   "source": [
    "df.head()"
   ]
  },
  {
   "cell_type": "code",
   "execution_count": 127,
   "id": "b2d50474-2903-462e-b73c-60f8fe339e97",
   "metadata": {},
   "outputs": [
    {
     "name": "stderr",
     "output_type": "stream",
     "text": [
      "/tmp/ipykernel_4101818/617195242.py:6: FutureWarning: Series.__getitem__ treating keys as positions is deprecated. In a future version, integer keys will always be treated as labels (consistent with DataFrame behavior). To access a value by position, use `ser.iloc[pos]`\n",
      "  if (df.iloc[row][col] == 1):\n"
     ]
    }
   ],
   "source": [
    "# topic sorting into list\n",
    "final_topic_list = []\n",
    "for row in range (0, len(df)):\n",
    "    #topic_list = []\n",
    "    for col in range (19, 30):\n",
    "        if (df.iloc[row][col] == 1):\n",
    "            final_topic_list.append(df.columns[col])"
   ]
  },
  {
   "cell_type": "code",
   "execution_count": 128,
   "id": "dedb4cab-d06d-4176-9409-32bfcd995b37",
   "metadata": {
    "scrolled": true,
    "tags": []
   },
   "outputs": [
    {
     "name": "stdout",
     "output_type": "stream",
     "text": [
      "1471\n",
      "['family', 'exercise', 'family', 'family', 'health', 'work', 'work', 'school', 'work', 'god', 'love', 'family', 'family', 'exercise', 'work', 'family', 'work', 'health', 'work', 'love', 'family', 'family', 'exercise', 'work', 'recreation', 'health', 'exercise', 'recreation', 'exercise', 'health', 'family', 'health', 'food', 'work', 'family', 'health', 'work', 'work', 'exercise', 'work', 'work', 'work', 'work', 'work', 'work', 'work', 'work', 'work', 'work', 'god', 'family', 'health', 'family', 'love', 'friends', 'work', 'love', 'food', 'family', 'family', 'family', 'exercise', 'food', 'family', 'work', 'work', 'work', 'god', 'family', 'family', 'health', 'work', 'work', 'work', 'work', 'work', 'family', 'recreation', 'friends', 'family', 'work', 'family', 'sleep', 'family', 'love', 'recreation', 'family', 'recreation', 'love', 'god', 'work', 'family', 'food', 'food', 'friends', 'god', 'family', 'family', 'love', 'family', 'family', 'family', 'family', 'family', 'sleep', 'family', 'friends', 'family', 'work', 'work', 'work', 'work', 'school', 'family', 'food', 'family', 'food', 'love', 'family', 'health', 'family', 'family', 'love', 'family', 'family', 'family', 'exercise', 'food', 'god', 'family', 'love', 'love', 'family', 'family', 'work', 'friends', 'friends', 'friends', 'family', 'family', 'family', 'family', 'family', 'family', 'family', 'family', 'family', 'family', 'work', 'sleep', 'work', 'family', 'family', 'family', 'family', 'health', 'family', 'exercise', 'love', 'health', 'family', 'family', 'family', 'family', 'work', 'friends', 'family', 'exercise', 'family', 'god', 'work', 'exercise', 'exercise', 'work', 'family', 'exercise', 'family', 'family', 'exercise', 'work', 'sleep', 'work', 'food', 'food', 'work', 'love', 'god', 'work', 'work', 'exercise', 'exercise', 'work', 'work', 'family', 'work', 'work', 'work', 'work', 'health', 'work', 'sleep', 'exercise', 'family', 'exercise', 'exercise', 'family', 'health', 'health', 'recreation', 'health', 'health', 'friends', 'health', 'exercise', 'exercise', 'exercise', 'exercise', 'exercise', 'food', 'family', 'family', 'recreation', 'recreation', 'recreation', 'recreation', 'family', 'recreation', 'recreation', 'exercise', 'food', 'friends', 'family', 'work', 'recreation', 'work', 'exercise', 'work', 'exercise', 'god', 'family', 'health', 'work', 'family', 'family', 'family', 'family', 'friends', 'family', 'health', 'friends', 'family', 'recreation', 'friends', 'work', 'recreation', 'family', 'god', 'family', 'work', 'god', 'food', 'god', 'family', 'recreation', 'recreation', 'exercise', 'family', 'work', 'family', 'family', 'family', 'family', 'family', 'family', 'family', 'family', 'god', 'love', 'friends', 'family', 'friends', 'god', 'family', 'family', 'exercise', 'work', 'work', 'love', 'friends', 'family', 'family', 'family', 'sleep', 'love', 'god', 'work', 'sleep', 'family', 'food', 'family', 'exercise', 'god', 'health', 'recreation', 'recreation', 'food', 'exercise', 'family', 'family', 'friends', 'friends', 'love', 'food', 'food', 'food', 'food', 'recreation', 'work', 'work', 'work', 'family', 'love', 'health', 'exercise', 'friends', 'health', 'exercise', 'work', 'family', 'love', 'exercise', 'family', 'health', 'health', 'exercise', 'work', 'sleep', 'exercise', 'family', 'work', 'god', 'work', 'work', 'health', 'work', 'exercise', 'work', 'work', 'work', 'friends', 'recreation', 'god', 'work', 'food', 'friends', 'food', 'food', 'work', 'health', 'love', 'work', 'god', 'food', 'family', 'work', 'family', 'health', 'friends', 'family', 'health', 'work', 'family', 'work', 'work', 'sleep', 'exercise', 'family', 'family', 'health', 'work', 'work', 'family', 'exercise', 'food', 'family', 'friends', 'work', 'food', 'family', 'work', 'god', 'exercise', 'family', 'family', 'family', 'love', 'god', 'family', 'sleep', 'exercise', 'family', 'health', 'food', 'recreation', 'recreation', 'work', 'family', 'family', 'recreation', 'love', 'love', 'exercise', 'family', 'exercise', 'friends', 'god', 'work', 'exercise', 'exercise', 'health', 'family', 'food', 'work', 'work', 'exercise', 'exercise', 'exercise', 'health', 'love', 'family', 'exercise', 'food', 'exercise', 'god', 'food', 'work', 'work', 'love', 'friends', 'food', 'food', 'family', 'exercise', 'food', 'family', 'exercise', 'work', 'school', 'family', 'family', 'work', 'work', 'god', 'work', 'work', 'work', 'love', 'exercise', 'friends', 'family', 'god', 'god', 'god', 'god', 'god', 'god', 'friends', 'exercise', 'exercise', 'family', 'family', 'food', 'family', 'work', 'recreation', 'god', 'family', 'family', 'work', 'family', 'family', 'work', 'family', 'health', 'work', 'god', 'exercise', 'exercise', 'recreation', 'god', 'friends', 'food', 'food', 'exercise', 'friends', 'friends', 'family', 'god', 'sleep', 'family', 'love', 'recreation', 'food', 'food', 'food', 'food', 'food', 'family', 'work', 'school', 'exercise', 'work', 'exercise', 'love', 'exercise', 'food', 'family', 'family', 'family', 'family', 'love', 'friends', 'sleep', 'work', 'family', 'food', 'family', 'health', 'recreation', 'sleep', 'sleep', 'friends', 'food', 'friends', 'food', 'food', 'recreation', 'exercise', 'exercise', 'exercise', 'family', 'friends', 'family', 'health', 'friends', 'family', 'exercise', 'school', 'sleep', 'sleep', 'school', 'family', 'family', 'love', 'food', 'friends', 'recreation', 'friends', 'family', 'food', 'food', 'work', 'food', 'exercise', 'family', 'friends', 'work', 'sleep', 'food', 'exercise', 'exercise', 'family', 'food', 'recreation', 'exercise', 'work', 'friends', 'sleep', 'food', 'sleep', 'family', 'work', 'food', 'sleep', 'family', 'god', 'exercise', 'health', 'work', 'food', 'god', 'sleep', 'work', 'exercise', 'family', 'health', 'health', 'exercise', 'work', 'food', 'god', 'family', 'food', 'sleep', 'work', 'recreation', 'recreation', 'work', 'exercise', 'recreation', 'exercise', 'work', 'family', 'sleep', 'work', 'work', 'food', 'work', 'recreation', 'work', 'work', 'friends', 'work', 'work', 'recreation', 'family', 'health', 'family', 'food', 'love', 'work', 'health', 'health', 'god', 'exercise', 'work', 'exercise', 'love', 'exercise', 'family', 'friends', 'exercise', 'food', 'health', 'sleep', 'exercise', 'food', 'health', 'exercise', 'exercise', 'god', 'health', 'exercise', 'health', 'work', 'exercise', 'family', 'exercise', 'food', 'sleep', 'family', 'family', 'god', 'family', 'family', 'work', 'family', 'exercise', 'recreation', 'work', 'family', 'work', 'recreation', 'health', 'love', 'recreation', 'health', 'work', 'recreation', 'recreation', 'sleep', 'sleep', 'friends', 'family', 'food', 'exercise', 'sleep', 'family', 'recreation', 'food', 'family', 'food', 'work', 'exercise', 'family', 'food', 'exercise', 'sleep', 'food', 'work', 'family', 'family', 'work', 'health', 'food', 'health', 'family', 'family', 'food', 'exercise', 'exercise', 'food', 'work', 'food', 'exercise', 'exercise', 'exercise', 'family', 'exercise', 'sleep', 'work', 'food', 'god', 'recreation', 'sleep', 'sleep', 'family', 'family', 'family', 'exercise', 'friends', 'exercise', 'friends', 'food', 'food', 'health', 'work', 'food', 'work', 'family', 'exercise', 'exercise', 'food', 'work', 'sleep', 'exercise', 'work', 'work', 'exercise', 'family', 'family', 'friends', 'family', 'recreation', 'work', 'exercise', 'friends', 'work', 'food', 'food', 'food', 'love', 'work', 'exercise', 'food', 'love', 'exercise', 'work', 'work', 'food', 'friends', 'food', 'family', 'love', 'exercise', 'school', 'family', 'family', 'exercise', 'work', 'work', 'health', 'sleep', 'work', 'work', 'exercise', 'friends', 'love', 'work', 'work', 'school', 'food', 'sleep', 'family', 'family', 'family', 'god', 'god', 'love', 'exercise', 'work', 'family', 'recreation', 'work', 'recreation', 'family', 'work', 'work', 'friends', 'family', 'food', 'love', 'health', 'recreation', 'work', 'food', 'work', 'food', 'recreation', 'food', 'work', 'family', 'love', 'work', 'family', 'food', 'recreation', 'food', 'family', 'food', 'family', 'work', 'family', 'work', 'sleep', 'food', 'work', 'exercise', 'exercise', 'family', 'exercise', 'school', 'exercise', 'friends', 'sleep', 'family', 'work', 'friends', 'food', 'health', 'exercise', 'family', 'work', 'friends', 'work', 'love', 'family', 'sleep', 'family', 'exercise', 'family', 'exercise', 'exercise', 'friends', 'family', 'exercise', 'family', 'work', 'work', 'work', 'family', 'family', 'work', 'health', 'exercise', 'exercise', 'health', 'exercise', 'sleep', 'food', 'god', 'work', 'family', 'family', 'food', 'food', 'work', 'food', 'exercise', 'exercise', 'food', 'work', 'family', 'work', 'work', 'love', 'sleep', 'school', 'health', 'health', 'recreation', 'work', 'sleep', 'health', 'food', 'food', 'family', 'food', 'food', 'school', 'god', 'work', 'work', 'friends', 'friends', 'family', 'food', 'friends', 'recreation', 'recreation', 'friends', 'god', 'work', 'food', 'family', 'friends', 'food', 'food', 'family', 'family', 'recreation', 'friends', 'food', 'work', 'sleep', 'school', 'food', 'health', 'family', 'work', 'friends', 'exercise', 'food', 'work', 'exercise', 'food', 'sleep', 'family', 'work', 'food', 'food', 'exercise', 'friends', 'work', 'family', 'work', 'health', 'family', 'god', 'sleep', 'food', 'god', 'health', 'love', 'food', 'family', 'food', 'god', 'exercise', 'exercise', 'exercise', 'love', 'work', 'work', 'love', 'work', 'friends', 'family', 'recreation', 'recreation', 'exercise', 'sleep', 'sleep', 'work', 'sleep', 'food', 'friends', 'work', 'food', 'work', 'food', 'work', 'health', 'family', 'friends', 'exercise', 'school', 'sleep', 'food', 'sleep', 'food', 'sleep', 'food', 'family', 'exercise', 'family', 'work', 'work', 'friends', 'recreation', 'love', 'school', 'health', 'sleep', 'sleep', 'recreation', 'exercise', 'sleep', 'food', 'food', 'love', 'sleep', 'sleep', 'exercise', 'recreation', 'food', 'food', 'friends', 'food', 'health', 'exercise', 'sleep', 'work', 'recreation', 'work', 'friends', 'food', 'school', 'food', 'love', 'god', 'health', 'sleep', 'love', 'health', 'sleep', 'food', 'health', 'health', 'sleep', 'sleep', 'health', 'family', 'love', 'health', 'family', 'friends', 'recreation', 'food', 'food', 'food', 'health', 'food', 'friends', 'family', 'food', 'recreation', 'love', 'work', 'health', 'family', 'exercise', 'friends', 'exercise', 'health', 'work', 'love', 'god', 'exercise', 'exercise', 'food', 'exercise', 'sleep', 'exercise', 'exercise', 'work', 'work', 'recreation', 'recreation', 'health', 'health', 'family', 'health', 'recreation', 'family', 'food', 'family', 'friends', 'work', 'sleep', 'food', 'health', 'food', 'exercise', 'love', 'exercise', 'food', 'sleep', 'health', 'love', 'food', 'health', 'food', 'food', 'sleep', 'food', 'work', 'love', 'health', 'recreation', 'food', 'work', 'work', 'work', 'sleep', 'health', 'recreation', 'friends', 'god', 'god', 'sleep', 'work', 'exercise', 'love', 'sleep', 'work', 'exercise', 'sleep', 'food', 'friends', 'love', 'sleep', 'friends', 'recreation', 'recreation', 'sleep', 'sleep', 'friends', 'exercise', 'food', 'sleep', 'family', 'school', 'recreation', 'friends', 'god', 'food', 'exercise', 'friends', 'exercise', 'food', 'family', 'sleep', 'exercise', 'family', 'god', 'sleep', 'health', 'exercise', 'friends', 'recreation', 'health', 'exercise', 'sleep', 'recreation', 'love', 'sleep', 'food', 'family', 'recreation', 'family', 'friends', 'friends', 'sleep', 'work', 'food', 'work', 'sleep', 'food', 'exercise', 'sleep', 'recreation', 'recreation', 'recreation', 'god', 'sleep', 'work', 'work', 'work', 'sleep', 'friends', 'exercise', 'exercise', 'food', 'family', 'god', 'work', 'work', 'work', 'exercise', 'exercise', 'friends', 'exercise', 'food', 'food', 'food', 'sleep', 'sleep', 'food', 'god', 'recreation', 'god', 'friends', 'work', 'exercise', 'god', 'exercise', 'sleep', 'god', 'food', 'food', 'school', 'food', 'work', 'sleep', 'food', 'friends', 'food', 'food', 'work', 'sleep', 'food', 'exercise', 'health', 'food', 'food', 'exercise', 'family', 'sleep', 'health', 'food', 'school', 'work', 'sleep', 'sleep', 'love', 'exercise', 'food', 'family', 'sleep', 'work', 'food', 'sleep', 'food', 'food', 'sleep', 'sleep', 'work', 'food', 'food', 'sleep', 'food', 'food', 'exercise', 'friends', 'health', 'work', 'recreation', 'sleep', 'work', 'family', 'family', 'food', 'god', 'sleep', 'recreation', 'family', 'exercise', 'god', 'food', 'food', 'food', 'love', 'sleep', 'sleep', 'family', 'exercise', 'love', 'friends', 'family', 'food', 'sleep', 'food', 'family', 'sleep', 'family', 'work', 'sleep', 'recreation', 'food', 'sleep', 'work', 'family', 'school', 'god', 'family', 'family', 'friends', 'sleep', 'exercise', 'friends', 'food', 'exercise', 'family', 'sleep', 'food', 'food', 'food', 'food', 'friends', 'food', 'recreation', 'love', 'exercise', 'exercise', 'friends', 'sleep', 'exercise', 'family', 'family', 'exercise', 'exercise', 'recreation', 'sleep', 'food', 'family', 'food', 'work', 'work', 'sleep', 'food', 'work', 'exercise', 'recreation', 'work', 'sleep', 'food', 'sleep', 'family', 'sleep', 'love', 'recreation', 'sleep', 'family', 'health', 'exercise', 'family', 'exercise', 'exercise', 'food', 'food', 'health', 'sleep', 'health', 'sleep', 'sleep', 'love', 'sleep', 'family', 'friends', 'god', 'friends', 'family', 'sleep', 'sleep', 'health', 'exercise', 'food', 'family', 'family', 'food', 'work', 'exercise', 'friends', 'family', 'friends', 'recreation', 'work', 'recreation', 'family', 'recreation', 'family', 'food', 'recreation', 'sleep', 'health', 'food', 'sleep', 'sleep', 'exercise', 'sleep', 'friends', 'health', 'sleep', 'sleep', 'recreation', 'exercise', 'sleep', 'food', 'sleep', 'work', 'health', 'friends', 'work', 'work', 'work', 'recreation', 'food', 'health', 'health', 'family', 'exercise', 'family', 'health', 'exercise', 'friends', 'food', 'health', 'sleep', 'exercise', 'food', 'family', 'family', 'love', 'exercise', 'work', 'friends', 'family', 'friends', 'sleep', 'health', 'family', 'food', 'sleep', 'sleep', 'food', 'friends', 'work', 'sleep', 'god', 'food', 'exercise', 'sleep', 'love', 'sleep', 'exercise', 'health', 'god', 'food', 'family', 'love']\n"
     ]
    }
   ],
   "source": [
    "print(len(final_topic_list))\n",
    "print(final_topic_list)"
   ]
  },
  {
   "cell_type": "code",
   "execution_count": 140,
   "id": "b717a28c-0275-424c-9bd6-2b4de8ed17f4",
   "metadata": {},
   "outputs": [
    {
     "name": "stderr",
     "output_type": "stream",
     "text": [
      "/tmp/ipykernel_4101818/3941235496.py:5: FutureWarning: Series.__getitem__ treating keys as positions is deprecated. In a future version, integer keys will always be treated as labels (consistent with DataFrame behavior). To access a value by position, use `ser.iloc[pos]`\n",
      "  if (df.iloc[row][col] == 1):\n"
     ]
    }
   ],
   "source": [
    "for row in range (0, len(df)):\n",
    "    #topic_list = []\n",
    "    count = 0\n",
    "    for col in range (19, 30):\n",
    "        if (df.iloc[row][col] == 1):\n",
    "            count = count + 1\n",
    "    if (count == 0):\n",
    "        print(row)"
   ]
  },
  {
   "cell_type": "code",
   "execution_count": 141,
   "id": "2c23b62c-5bb6-471a-879c-957e25ae5671",
   "metadata": {},
   "outputs": [
    {
     "name": "stdout",
     "output_type": "stream",
     "text": [
      "Having faith keeps feeling steady good mood\n",
      "['calm', 'happy', 'proud']\n",
      "0.7351\n"
     ]
    },
    {
     "name": "stderr",
     "output_type": "stream",
     "text": [
      "/tmp/ipykernel_4101818/3952047956.py:1: FutureWarning: Series.__getitem__ treating keys as positions is deprecated. In a future version, integer keys will always be treated as labels (consistent with DataFrame behavior). To access a value by position, use `ser.iloc[pos]`\n",
      "  print(df.iloc[961][0])\n",
      "/tmp/ipykernel_4101818/3952047956.py:3: FutureWarning: Series.__getitem__ treating keys as positions is deprecated. In a future version, integer keys will always be treated as labels (consistent with DataFrame behavior). To access a value by position, use `ser.iloc[pos]`\n",
      "  print(df.iloc[961][34])\n",
      "/tmp/ipykernel_4101818/3952047956.py:4: FutureWarning: Series.__getitem__ treating keys as positions is deprecated. In a future version, integer keys will always be treated as labels (consistent with DataFrame behavior). To access a value by position, use `ser.iloc[pos]`\n",
      "  print(df.iloc[961][33])\n"
     ]
    }
   ],
   "source": [
    "print(df.iloc[961][0])\n",
    "# seems to be because of work\n",
    "print(df.iloc[961][34])\n",
    "print(df.iloc[961][33])"
   ]
  },
  {
   "cell_type": "code",
   "execution_count": 142,
   "id": "d6e00152-6236-4c7c-a520-29f6f935ebff",
   "metadata": {},
   "outputs": [
    {
     "name": "stdout",
     "output_type": "stream",
     "text": [
      "Yesterday I went walk 2 kids 2 dogs My 2-year old great usually difficult time kept held hand almost whole time The 7-month old fell asleep Both dogs well-behaved\n",
      "['happy', 'satisfied']\n",
      "0.7003\n"
     ]
    },
    {
     "name": "stderr",
     "output_type": "stream",
     "text": [
      "/tmp/ipykernel_4101818/1085653319.py:1: FutureWarning: Series.__getitem__ treating keys as positions is deprecated. In a future version, integer keys will always be treated as labels (consistent with DataFrame behavior). To access a value by position, use `ser.iloc[pos]`\n",
      "  print(df.iloc[980][0])\n",
      "/tmp/ipykernel_4101818/1085653319.py:3: FutureWarning: Series.__getitem__ treating keys as positions is deprecated. In a future version, integer keys will always be treated as labels (consistent with DataFrame behavior). To access a value by position, use `ser.iloc[pos]`\n",
      "  print(df.iloc[980][34])\n",
      "/tmp/ipykernel_4101818/1085653319.py:4: FutureWarning: Series.__getitem__ treating keys as positions is deprecated. In a future version, integer keys will always be treated as labels (consistent with DataFrame behavior). To access a value by position, use `ser.iloc[pos]`\n",
      "  print(df.iloc[980][33])\n"
     ]
    }
   ],
   "source": [
    "print(df.iloc[980][0])\n",
    "#seems to be because of god\n",
    "print(df.iloc[980][34])\n",
    "print(df.iloc[980][33])"
   ]
  },
  {
   "cell_type": "code",
   "execution_count": 143,
   "id": "e56221c0-0fbe-40f9-82a1-975b4ce9a0ed",
   "metadata": {},
   "outputs": [
    {
     "name": "stdout",
     "output_type": "stream",
     "text": [
      "1\n"
     ]
    },
    {
     "name": "stderr",
     "output_type": "stream",
     "text": [
      "/tmp/ipykernel_4101818/1845222933.py:2: FutureWarning: Series.__getitem__ treating keys as positions is deprecated. In a future version, integer keys will always be treated as labels (consistent with DataFrame behavior). To access a value by position, use `ser.iloc[pos]`\n",
      "  print(df.iloc[961][29])\n"
     ]
    }
   ],
   "source": [
    "df.iat[961,29] = 1\n",
    "print(df.iloc[961][29])"
   ]
  },
  {
   "cell_type": "code",
   "execution_count": 144,
   "id": "76a6ccc9-4c2d-4076-b68a-c41e49d8ff01",
   "metadata": {},
   "outputs": [
    {
     "name": "stdout",
     "output_type": "stream",
     "text": [
      "0\n",
      "1\n"
     ]
    },
    {
     "name": "stderr",
     "output_type": "stream",
     "text": [
      "/tmp/ipykernel_4101818/2655515971.py:3: FutureWarning: Series.__getitem__ treating keys as positions is deprecated. In a future version, integer keys will always be treated as labels (consistent with DataFrame behavior). To access a value by position, use `ser.iloc[pos]`\n",
      "  print(df.iloc[980][23])\n",
      "/tmp/ipykernel_4101818/2655515971.py:5: FutureWarning: Series.__getitem__ treating keys as positions is deprecated. In a future version, integer keys will always be treated as labels (consistent with DataFrame behavior). To access a value by position, use `ser.iloc[pos]`\n",
      "  print(df.iloc[980][23])\n"
     ]
    }
   ],
   "source": [
    "#now let's add the labels into the dataframe\n",
    "#second one is for god which is col 23\n",
    "print(df.iloc[980][23])\n",
    "df.iat[980,23] = 1\n",
    "print(df.iloc[980][23])"
   ]
  },
  {
   "cell_type": "code",
   "execution_count": 145,
   "id": "7e4f9b76-481a-4592-a80e-3896aa62df80",
   "metadata": {},
   "outputs": [
    {
     "name": "stderr",
     "output_type": "stream",
     "text": [
      "/tmp/ipykernel_4101818/558654078.py:9: FutureWarning: Series.__getitem__ treating keys as positions is deprecated. In a future version, integer keys will always be treated as labels (consistent with DataFrame behavior). To access a value by position, use `ser.iloc[pos]`\n",
      "  if (df.iloc[row][col] == 1):\n"
     ]
    }
   ],
   "source": [
    "#Now, let's rerun the code to get all the topics and the length should be correct\n",
    "#11 topics\n",
    "#columns 18-29 (inclusive of both)\n",
    "#no topic lists greater than one for one person/entry, so we can just append it to one list \n",
    "final_topic_list = []\n",
    "for row in range (0, len(df)):\n",
    "    #topic_list = []\n",
    "    for col in range (19, 30):\n",
    "        if (df.iloc[row][col] == 1):\n",
    "            final_topic_list.append(df.columns[col])\n",
    "#no topic lists greater than one, so "
   ]
  },
  {
   "cell_type": "code",
   "execution_count": 150,
   "id": "85896501-b971-42ec-9ae4-07ed6ef8dcd4",
   "metadata": {},
   "outputs": [
    {
     "data": {
      "text/plain": [
       "1471"
      ]
     },
     "execution_count": 150,
     "metadata": {},
     "output_type": "execute_result"
    }
   ],
   "source": []
  },
  {
   "cell_type": "code",
   "execution_count": null,
   "id": "87c5b6fc-371a-4263-948e-7d32a0ed2112",
   "metadata": {},
   "outputs": [],
   "source": []
  },
  {
   "cell_type": "code",
   "execution_count": null,
   "id": "57bef541-5152-43bb-8f96-b147c3d08fe6",
   "metadata": {},
   "outputs": [],
   "source": []
  },
  {
   "cell_type": "code",
   "execution_count": null,
   "id": "973239fb-e0d8-4c25-9f77-b66587afcf65",
   "metadata": {},
   "outputs": [],
   "source": []
  },
  {
   "cell_type": "code",
   "execution_count": null,
   "id": "086c41af-fdb7-4eb1-97cc-5449fb4adcab",
   "metadata": {},
   "outputs": [],
   "source": []
  }
 ],
 "metadata": {
  "kernelspec": {
   "display_name": "seminar",
   "language": "python",
   "name": "seminar"
  },
  "language_info": {
   "codemirror_mode": {
    "name": "ipython",
    "version": 3
   },
   "file_extension": ".py",
   "mimetype": "text/x-python",
   "name": "python",
   "nbconvert_exporter": "python",
   "pygments_lexer": "ipython3",
   "version": "3.11.5"
  }
 },
 "nbformat": 4,
 "nbformat_minor": 5
}
