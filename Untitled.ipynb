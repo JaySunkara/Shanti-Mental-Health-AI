{
 "cells": [
  {
   "cell_type": "code",
   "execution_count": 59,
   "id": "9252ec49-dacd-462b-b638-1a045eb76f6a",
   "metadata": {},
   "outputs": [],
   "source": [
    "import pickle\n",
    "import numpy as np\n",
    "from tensorflow.keras.models import load_model\n",
    "from tensorflow.keras.preprocessing.text import Tokenizer\n",
    "from tensorflow.keras.preprocessing.sequence import pad_sequences"
   ]
  },
  {
   "cell_type": "code",
   "execution_count": 60,
   "id": "b2999657-4118-48ea-9186-45601239ae3d",
   "metadata": {},
   "outputs": [],
   "source": [
    "loaded_model = pickle.load(open(\"nnshanti.sav\", \"rb\"))"
   ]
  },
  {
   "cell_type": "code",
   "execution_count": 61,
   "id": "9cc9479c-6e55-4d81-a142-5c545bab5e94",
   "metadata": {},
   "outputs": [],
   "source": [
    "tokenizer = Tokenizer(num_words=10000)"
   ]
  },
  {
   "cell_type": "code",
   "execution_count": 71,
   "id": "e83029b9-5b1e-4575-b527-4890c458f8f8",
   "metadata": {},
   "outputs": [],
   "source": [
    "def preprocess_input(text):\n",
    "    sequences = tokenizer.texts_to_sequences([text])\n",
    "    padded_sequences = pad_sequences(sequences, maxlen=250)\n",
    "    return padded_sequences\n",
    "\n",
    "def predict_text(text):\n",
    "    preprocessed_text = preprocess_input(text)\n",
    "    prediction = model.predict(preprocessed_text)\n",
    "    return prediction"
   ]
  },
  {
   "cell_type": "code",
   "execution_count": 72,
   "id": "b3d0bee9-2c30-46fc-b537-aee392cbed12",
   "metadata": {},
   "outputs": [
    {
     "name": "stdout",
     "output_type": "stream",
     "text": [
      "1/1 [==============================] - 0s 400ms/step\n",
      "[[0.00148968 0.00060573 0.20493232 0.18623795 0.21804555 0.0133369\n",
      "  0.16587658 0.01601497 0.12545381 0.04468832 0.24042964 0.04110351\n",
      "  0.01973647]] sadness\n"
     ]
    }
   ],
   "source": [
    "new_complaint = ['I am very happy.']\n",
    "seq = tokenizer.texts_to_sequences(new_complaint)\n",
    "padded = pad_sequences(seq, maxlen=250)\n",
    "pred = loaded_model.predict(padded)\n",
    "labels = ['bruh', 'bruh', 'anger', 'anticipation', 'disgust', 'fear', 'joy', 'love', 'optimism', 'pessimism', 'sadness', 'surprise', 'trust']\n",
    "print(pred, labels[np.argmax(pred)])"
   ]
  },
  {
   "cell_type": "code",
   "execution_count": 38,
   "id": "0929c5c5-8366-4bad-9524-511bb3b735b6",
   "metadata": {},
   "outputs": [
    {
     "name": "stdout",
     "output_type": "stream",
     "text": [
      "1/1 [==============================] - 0s 22ms/step\n",
      "Prediction: [[0.00046936 0.00033134 0.1558276  0.06275241 0.12190162 0.03139359\n",
      "  0.08225872 0.01877521 0.0232613  0.09294847 0.26403925 0.04023048\n",
      "  0.0069807 ]]\n"
     ]
    }
   ],
   "source": [
    "sample_text = \"I'm super happy.\"\n",
    "prediction = predict_text(sample_text)\n",
    "print(\"Prediction:\", prediction)"
   ]
  },
  {
   "cell_type": "code",
   "execution_count": 39,
   "id": "c0360672-55a1-460a-8cab-5141565ac55b",
   "metadata": {},
   "outputs": [
    {
     "name": "stdout",
     "output_type": "stream",
     "text": [
      "1/1 [==============================] - 0s 19ms/step\n",
      "Prediction: [[0.00046936 0.00033134 0.1558276  0.06275241 0.12190162 0.03139359\n",
      "  0.08225872 0.01877521 0.0232613  0.09294847 0.26403925 0.04023048\n",
      "  0.0069807 ]]\n"
     ]
    }
   ],
   "source": [
    "sample_text = \"I am super happy and I love my mom.\"\n",
    "prediction = predict_text(sample_text)\n",
    "print(\"Prediction:\", prediction)"
   ]
  }
 ],
 "metadata": {
  "kernelspec": {
   "display_name": "seminar",
   "language": "python",
   "name": "seminar"
  },
  "language_info": {
   "codemirror_mode": {
    "name": "ipython",
    "version": 3
   },
   "file_extension": ".py",
   "mimetype": "text/x-python",
   "name": "python",
   "nbconvert_exporter": "python",
   "pygments_lexer": "ipython3",
   "version": "3.11.5"
  }
 },
 "nbformat": 4,
 "nbformat_minor": 5
}
